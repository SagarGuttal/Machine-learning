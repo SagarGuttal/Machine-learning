{
 "cells": [
  {
   "cell_type": "code",
   "execution_count": 1,
   "id": "6ded5c3c",
   "metadata": {},
   "outputs": [],
   "source": [
    "from sklearn.datasets import make_classification\n",
    "from sklearn.model_selection import train_test_split"
   ]
  },
  {
   "cell_type": "markdown",
   "id": "71998f2d",
   "metadata": {},
   "source": [
    "## Generate two class dataset"
   ]
  },
  {
   "cell_type": "code",
   "execution_count": 2,
   "id": "f5eef7f6",
   "metadata": {},
   "outputs": [],
   "source": [
    "x,y=make_classification(n_samples=1000,n_features=20,n_classes=2,random_state=27)"
   ]
  },
  {
   "cell_type": "code",
   "execution_count": 3,
   "id": "5df318b0",
   "metadata": {},
   "outputs": [
    {
     "data": {
      "text/plain": [
       "(1000, 20)"
      ]
     },
     "execution_count": 3,
     "metadata": {},
     "output_type": "execute_result"
    }
   ],
   "source": [
    "x.shape"
   ]
  },
  {
   "cell_type": "code",
   "execution_count": 4,
   "id": "44e1360a",
   "metadata": {},
   "outputs": [
    {
     "data": {
      "text/plain": [
       "(1000,)"
      ]
     },
     "execution_count": 4,
     "metadata": {},
     "output_type": "execute_result"
    }
   ],
   "source": [
    "y.shape"
   ]
  },
  {
   "cell_type": "code",
   "execution_count": 5,
   "id": "e581afcc",
   "metadata": {},
   "outputs": [],
   "source": [
    "x_train, x_test, y_train, y_test=train_test_split(x,y,test_size=0.3,random_state=27)"
   ]
  },
  {
   "cell_type": "code",
   "execution_count": 6,
   "id": "ca94f994",
   "metadata": {},
   "outputs": [
    {
     "data": {
      "text/plain": [
       "(700, 20)"
      ]
     },
     "execution_count": 6,
     "metadata": {},
     "output_type": "execute_result"
    }
   ],
   "source": [
    "x_train.shape"
   ]
  },
  {
   "cell_type": "code",
   "execution_count": 7,
   "id": "1e3674a4",
   "metadata": {},
   "outputs": [
    {
     "data": {
      "text/plain": [
       "(700,)"
      ]
     },
     "execution_count": 7,
     "metadata": {},
     "output_type": "execute_result"
    }
   ],
   "source": [
    "y_train.shape"
   ]
  },
  {
   "cell_type": "code",
   "execution_count": 8,
   "id": "47f0a0f8",
   "metadata": {},
   "outputs": [
    {
     "data": {
      "text/plain": [
       "(300, 20)"
      ]
     },
     "execution_count": 8,
     "metadata": {},
     "output_type": "execute_result"
    }
   ],
   "source": [
    "x_test.shape"
   ]
  },
  {
   "cell_type": "code",
   "execution_count": 9,
   "id": "b9a1684a",
   "metadata": {},
   "outputs": [
    {
     "data": {
      "text/plain": [
       "(300,)"
      ]
     },
     "execution_count": 9,
     "metadata": {},
     "output_type": "execute_result"
    }
   ],
   "source": [
    "y_test.shape"
   ]
  },
  {
   "cell_type": "markdown",
   "id": "5a481ae7",
   "metadata": {},
   "source": [
    "## select two classification models"
   ]
  },
  {
   "cell_type": "code",
   "execution_count": 10,
   "id": "a10b458c",
   "metadata": {},
   "outputs": [],
   "source": [
    "from sklearn.linear_model import LogisticRegression\n",
    "from sklearn.neighbors import KNeighborsClassifier"
   ]
  },
  {
   "cell_type": "markdown",
   "id": "277fe564",
   "metadata": {},
   "source": [
    "#### call the model"
   ]
  },
  {
   "cell_type": "code",
   "execution_count": 11,
   "id": "cb27fb0c",
   "metadata": {},
   "outputs": [],
   "source": [
    "model_1=LogisticRegression()\n",
    "model_2=KNeighborsClassifier(n_neighbors=4)"
   ]
  },
  {
   "cell_type": "markdown",
   "id": "5af281c3",
   "metadata": {},
   "source": [
    "#### fit the model"
   ]
  },
  {
   "cell_type": "code",
   "execution_count": 12,
   "id": "9fceb21a",
   "metadata": {},
   "outputs": [
    {
     "data": {
      "text/plain": [
       "KNeighborsClassifier(n_neighbors=4)"
      ]
     },
     "execution_count": 12,
     "metadata": {},
     "output_type": "execute_result"
    }
   ],
   "source": [
    "model_1.fit(x_train,y_train)\n",
    "model_2.fit(x_train,y_train)"
   ]
  },
  {
   "cell_type": "markdown",
   "id": "d7ff0317",
   "metadata": {},
   "source": [
    "## Predict probabilities\n",
    "#### These values are probability prediction by the model"
   ]
  },
  {
   "cell_type": "code",
   "execution_count": 13,
   "id": "a11169cc",
   "metadata": {},
   "outputs": [],
   "source": [
    "pridictProbabilities_model_1=model_1.predict_proba(x_test)\n",
    "pridictProbabilities_model_2=model_2.predict_proba(x_test)"
   ]
  },
  {
   "cell_type": "markdown",
   "id": "cf38902a",
   "metadata": {},
   "source": [
    "## Predicted values\n",
    "#### These are actual predicted values by models"
   ]
  },
  {
   "cell_type": "code",
   "execution_count": 14,
   "id": "fc3411c9",
   "metadata": {},
   "outputs": [],
   "source": [
    "pridict_model_1=model_1.predict(x_test)\n",
    "pridict_model_2=model_2.predict(x_test)"
   ]
  },
  {
   "cell_type": "code",
   "execution_count": 15,
   "id": "9a062b90",
   "metadata": {},
   "outputs": [],
   "source": [
    "from sklearn.metrics import confusion_matrix,accuracy_score"
   ]
  },
  {
   "cell_type": "markdown",
   "id": "11699f44",
   "metadata": {},
   "source": [
    "## Creating confusion metrics based on actual predicted values by models\n",
    "#### for model 1"
   ]
  },
  {
   "cell_type": "code",
   "execution_count": 16,
   "id": "20929726",
   "metadata": {},
   "outputs": [
    {
     "name": "stdout",
     "output_type": "stream",
     "text": [
      "[[159   5]\n",
      " [ 10 126]]\n",
      "\n",
      "Accuracy for model_1 = 0.95\n"
     ]
    }
   ],
   "source": [
    "CM_1=confusion_matrix(y_test,pridict_model_1)\n",
    "accuracy_1=accuracy_score(y_test,pridict_model_1)\n",
    "print(CM_1)\n",
    "print(\"\")\n",
    "print(\"Accuracy for model_1 =\",accuracy_1)"
   ]
  },
  {
   "cell_type": "markdown",
   "id": "b8f3534f",
   "metadata": {},
   "source": [
    "#### for model 2"
   ]
  },
  {
   "cell_type": "code",
   "execution_count": 17,
   "id": "812f1a89",
   "metadata": {},
   "outputs": [
    {
     "name": "stdout",
     "output_type": "stream",
     "text": [
      "[[153  11]\n",
      " [ 28 108]]\n",
      "\n",
      "Accuracy for model_2 = 0.87\n"
     ]
    }
   ],
   "source": [
    "\n",
    "CM_2=confusion_matrix(y_test,pridict_model_2)\n",
    "accuracy_2=accuracy_score(y_test,pridict_model_2)\n",
    "print(CM_2)\n",
    "print(\"\")\n",
    "print(\"Accuracy for model_2 =\",accuracy_2)"
   ]
  },
  {
   "cell_type": "markdown",
   "id": "4dd926cc",
   "metadata": {},
   "source": [
    "#### Lets see for above evalution we conclude that model_1 is performing better compared to model_2  Lets see another technique to evaluate our model model "
   ]
  },
  {
   "cell_type": "markdown",
   "id": "87daf215",
   "metadata": {},
   "source": [
    "# ROC and AUC technique\n",
    "### When we tune the threshold to the model afterthat which threshold will help to improve our model performance"
   ]
  },
  {
   "cell_type": "code",
   "execution_count": 18,
   "id": "0cef99d8",
   "metadata": {},
   "outputs": [],
   "source": [
    "from sklearn.metrics import roc_curve,roc_auc_score"
   ]
  },
  {
   "cell_type": "markdown",
   "id": "c6b9552f",
   "metadata": {},
   "source": [
    "## ROC curve for the models "
   ]
  },
  {
   "cell_type": "code",
   "execution_count": 19,
   "id": "c64feffd",
   "metadata": {},
   "outputs": [],
   "source": [
    "fpr1,tpr1,thresh1=roc_curve(y_test,pridictProbabilities_model_1[:,1],pos_label=1)\n",
    "fpr2,tpr2,thresh2=roc_curve(y_test,pridictProbabilities_model_2[:,1],pos_label=1)"
   ]
  },
  {
   "cell_type": "markdown",
   "id": "12a57db6",
   "metadata": {},
   "source": [
    "#### ROC curve for TPR = FPR"
   ]
  },
  {
   "cell_type": "code",
   "execution_count": 20,
   "id": "0f67c19b",
   "metadata": {},
   "outputs": [],
   "source": [
    "random_probs = [0 for i in range(len(y_test))]\n",
    "p_fpr, p_tpr, _ = roc_curve(y_test, random_probs, pos_label=1)"
   ]
  },
  {
   "cell_type": "markdown",
   "id": "ac9fa329",
   "metadata": {},
   "source": [
    "#### The AUC score can be computed using the roc_auc_score() method of sklearn"
   ]
  },
  {
   "cell_type": "code",
   "execution_count": 21,
   "id": "86117771",
   "metadata": {},
   "outputs": [],
   "source": [
    "from sklearn.metrics import roc_auc_score"
   ]
  },
  {
   "cell_type": "markdown",
   "id": "d7ec33ed",
   "metadata": {},
   "source": [
    "#### AUC scores for models"
   ]
  },
  {
   "cell_type": "code",
   "execution_count": 22,
   "id": "fd8901c0",
   "metadata": {},
   "outputs": [
    {
     "name": "stdout",
     "output_type": "stream",
     "text": [
      "AUC_score Model_1 = 0.9762374461979914\n",
      "AUC_score Model_2 = 0.9233769727403157\n"
     ]
    }
   ],
   "source": [
    "auc_score1 = roc_auc_score(y_test, pridictProbabilities_model_1[:,1])\n",
    "auc_score2 = roc_auc_score(y_test, pridictProbabilities_model_2[:,1])\n",
    "\n",
    "print(\"AUC_score Model_1 =\",auc_score1)\n",
    "print(\"AUC_score Model_2 =\",auc_score2)"
   ]
  },
  {
   "cell_type": "markdown",
   "id": "50752d94",
   "metadata": {},
   "source": [
    "## We can also plot the ROC curves for the two algorithms using matplotlib:"
   ]
  },
  {
   "cell_type": "code",
   "execution_count": 23,
   "id": "819593a5",
   "metadata": {},
   "outputs": [],
   "source": [
    "import matplotlib.pyplot as plt\n",
    "plt.style.use(\"seaborn\")"
   ]
  },
  {
   "cell_type": "markdown",
   "id": "4f155dd9",
   "metadata": {},
   "source": [
    "#### plot ROC curves"
   ]
  },
  {
   "cell_type": "code",
   "execution_count": 24,
   "id": "eaa6d1c2",
   "metadata": {},
   "outputs": [
    {
     "data": {
      "image/png": "[encoded data removed]",
      "text/plain": [
       "<Figure size 576x396 with 1 Axes>"
      ]
     },
     "metadata": {},
     "output_type": "display_data"
    }
   ],
   "source": [
    "plt.plot(fpr1,tpr1,linestyle='--',color='orange',label=\"Logistic Regression\")\n",
    "plt.plot(fpr2,tpr2,linestyle='--',color='green',label=\"KNN\")\n",
    "plt.plot(p_fpr,p_tpr)\n",
    "plt.title(\"ROC curve\")\n",
    "plt.xlabel(\"False positive Rate\")\n",
    "plt.ylabel(\"True positive Rate\")\n",
    "plt.legend(loc=\"best\")\n",
    "plt.savefig(\"ROC\",dpi=300)\n",
    "plt.show()"
   ]
  },
  {
   "cell_type": "markdown",
   "id": "699d0bce",
   "metadata": {},
   "source": [
    "## Just looking at the graph we conclude that Logistc Regression has more AUC and performing better compare to KNN\n",
    "## Thats why we select Logistic regreesion model"
   ]
  },
  {
   "cell_type": "markdown",
   "id": "b55ec1df",
   "metadata": {},
   "source": [
    "# REFERANCE BLOG :- https://www.analyticsvidhya.com/blog/2020/06/auc-roc-curve-machine-learning/"
   ]
  },
  {
   "cell_type": "code",
   "execution_count": null,
   "id": "23cb2dcb",
   "metadata": {},
   "outputs": [],
   "source": []
  }
 ],
 "metadata": {
  "kernelspec": {
   "display_name": "Python 3 (ipykernel)",
   "language": "python",
   "name": "python3"
  },
  "language_info": {
   "codemirror_mode": {
    "name": "ipython",
    "version": 3
   },
   "file_extension": ".py",
   "mimetype": "text/x-python",
   "name": "python",
   "nbconvert_exporter": "python",
   "pygments_lexer": "ipython3",
   "version": "3.8.12"
  }
 },
 "nbformat": 4,
 "nbformat_minor": 5
}
