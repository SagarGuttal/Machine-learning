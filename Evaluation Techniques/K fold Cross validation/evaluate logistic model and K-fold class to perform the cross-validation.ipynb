{
 "cells": [
  {
   "cell_type": "markdown",
   "id": "5f0f1f31",
   "metadata": {},
   "source": [
    "# k-Fold Cross-Validation"
   ]
  },
  {
   "cell_type": "markdown",
   "id": "e5c547e5",
   "metadata": {},
   "source": [
    "## Steps\n",
    "* The make_classification() function can be used to create a synthetic binary classification dataset\n",
    "* The cross_val_score() function will be used to perform the evaluation\n",
    "* We will evaluate a LogisticRegression model and use the KFold class to perform the cross-validation\n",
    "* evalute model performance"
   ]
  },
  {
   "cell_type": "code",
   "execution_count": 2,
   "id": "0803a878",
   "metadata": {},
   "outputs": [],
   "source": [
    "import numpy as np\n",
    "import pandas as pd\n",
    "import matplotlib.pyplot as plt\n",
    "from sklearn.datasets import make_classification\n",
    "from sklearn.model_selection import KFold\n",
    "from sklearn.model_selection import cross_val_score\n",
    "from sklearn.linear_model import LogisticRegression"
   ]
  },
  {
   "cell_type": "code",
   "execution_count": 3,
   "id": "609a9392",
   "metadata": {},
   "outputs": [
    {
     "name": "stdout",
     "output_type": "stream",
     "text": [
      "shape of x :- (100, 20)\n",
      "shape of y :- (100,)\n"
     ]
    }
   ],
   "source": [
    "# create a dataset\n",
    "X,y=make_classification(n_samples=100,n_features=20,n_informative=15,n_redundant=5,random_state=1)\n",
    "print(\"shape of x :-\",X.shape)\n",
    "print(\"shape of y :-\",y.shape)"
   ]
  },
  {
   "cell_type": "code",
   "execution_count": 4,
   "id": "14dbaf1c",
   "metadata": {},
   "outputs": [],
   "source": [
    "## create the class of Cross-val-score\n",
    "cv=KFold(n_splits =20,random_state=1,shuffle=True)"
   ]
  },
  {
   "cell_type": "code",
   "execution_count": 5,
   "id": "12d8dc5f",
   "metadata": {},
   "outputs": [],
   "source": [
    "## create a model\n",
    "model=LogisticRegression()"
   ]
  },
  {
   "cell_type": "code",
   "execution_count": 7,
   "id": "2c763596",
   "metadata": {},
   "outputs": [
    {
     "data": {
      "text/plain": [
       "array([0.8, 1. , 1. , 1. , 0.8, 0.8, 1. , 0.8, 0.6, 0.6, 0.8, 0.6, 1. ,\n",
       "       0.8, 1. , 1. , 1. , 0.8, 0.6, 0.6])"
      ]
     },
     "execution_count": 7,
     "metadata": {},
     "output_type": "execute_result"
    }
   ],
   "source": [
    "## evaluate model using cross-val-score\n",
    "scores=cross_val_score(model,X,y,scoring='accuracy',cv=cv,n_jobs=-1)\n",
    "scores"
   ]
  },
  {
   "cell_type": "code",
   "execution_count": 11,
   "id": "35c6fe95",
   "metadata": {},
   "outputs": [
    {
     "name": "stdout",
     "output_type": "stream",
     "text": [
      "accuracy= 0.8300000000000003\n",
      "Accuracy: 0.830 (0.158)\n"
     ]
    }
   ],
   "source": [
    "## model performance\n",
    "print(\"accuracy=\",np.mean(scores))\n",
    "print('Accuracy: %.3f (%.3f)' % (np.mean(scores), np.std(scores)))"
   ]
  },
  {
   "cell_type": "code",
   "execution_count": 9,
   "id": "168b3301",
   "metadata": {},
   "outputs": [
    {
     "name": "stdout",
     "output_type": "stream",
     "text": [
      "accuracy= 83.00000000000003\n"
     ]
    }
   ],
   "source": [
    "## model performance\n",
    "print(\"accuracy=\",np.mean(scores)*100)"
   ]
  },
  {
   "cell_type": "code",
   "execution_count": null,
   "id": "b1203f7d",
   "metadata": {},
   "outputs": [],
   "source": []
  }
 ],
 "metadata": {
  "kernelspec": {
   "display_name": "Python 3 (ipykernel)",
   "language": "python",
   "name": "python3"
  },
  "language_info": {
   "codemirror_mode": {
    "name": "ipython",
    "version": 3
   },
   "file_extension": ".py",
   "mimetype": "text/x-python",
   "name": "python",
   "nbconvert_exporter": "python",
   "pygments_lexer": "ipython3",
   "version": "3.8.12"
  }
 },
 "nbformat": 4,
 "nbformat_minor": 5
}
