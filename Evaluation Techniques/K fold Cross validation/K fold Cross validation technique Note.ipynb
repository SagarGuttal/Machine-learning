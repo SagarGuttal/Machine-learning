{
 "cells": [
  {
   "cell_type": "markdown",
   "id": "64304ad5",
   "metadata": {},
   "source": [
    "## k-Fold Cross-Validation\n",
    "* Cross-validation is a resampling procedure used to evaluate machine learning models on a limited data sample.\n",
    "* The procedure has a single parameter called k that refers to the number of groups that a given data sample is to be split into. As such, the procedure is often called k-fold cross-validation. When a specific value for k is chosen, it may be used in place of k in the reference to the model, such as k=10 becoming 10-fold cross-validation.\n",
    "* Cross-validation is primarily used in applied machine learning to estimate the skill of a machine learning model on unseen data. That is, to use a limited sample in order to estimate how the model is expected to perform in general when used to make predictions on data not used during the training of the model\n",
    "* It is a popular method because it is simple to understand and because it generally results in a less biased or less optimistic estimate of the model skill than other methods, such as a simple train/test split."
   ]
  },
  {
   "cell_type": "markdown",
   "id": "f4bdd1d0",
   "metadata": {},
   "source": [
    "## The general procedure is as follows:\n",
    "* Shuffle the dataset randomly.\n",
    "* Split the dataset into k groups\n",
    "* For each unique group:\n",
    "* Take the group as a hold out or test data set\n",
    "* Take the remaining groups as a training data set\n",
    "* Fit a model on the training set and evaluate it on the test set\n",
    "* Retain the evaluation score and discard the model\n",
    "* Summarize the skill of the model using the sample of model evaluation scores"
   ]
  },
  {
   "cell_type": "markdown",
   "id": "06feee51",
   "metadata": {},
   "source": [
    "## Configuration of k\n",
    "* The k value must be chosen carefully for your data sample.\n",
    "* A poorly chosen value for k may result in a mis-representative idea of the skill of the model, such as a score with a high variance (that may change a lot based on the data used to fit the model), or a high bias, (such as an overestimate of the skill of the model).\n",
    "\n",
    "### Three common tactics for choosing a value for k are as follows:\n",
    "\n",
    "* Representative: The value for k is chosen such that each train/test group of data samples is large enough to be statistically representative of the broader dataset.\n",
    "* k=10: The value for k is fixed to 10, a value that has been found through experimentation to generally result in a model skill estimate with low bias a modest variance.\n",
    "* k=n: The value for k is fixed to n, where n is the size of the dataset to give each test sample an opportunity to be used in the hold out dataset. This approach is called leave-one-out cross-validation"
   ]
  },
  {
   "cell_type": "markdown",
   "id": "5e7a069f",
   "metadata": {},
   "source": [
    "## NOTE :-A value of k=10 is very common in the field of applied machine learning, and is recommend if you are struggling to choose a value for your dataset."
   ]
  },
  {
   "cell_type": "markdown",
   "id": "59455a27",
   "metadata": {},
   "source": [
    "## scikit-learn k-fold cross-validation"
   ]
  },
  {
   "cell_type": "code",
   "execution_count": 1,
   "id": "91137cd4",
   "metadata": {},
   "outputs": [],
   "source": [
    "import numpy as np\n",
    "from sklearn.model_selection import KFold"
   ]
  },
  {
   "cell_type": "markdown",
   "id": "fd2c4c16",
   "metadata": {},
   "source": [
    "#### Data sample"
   ]
  },
  {
   "cell_type": "code",
   "execution_count": 2,
   "id": "0a66e1c0",
   "metadata": {},
   "outputs": [],
   "source": [
    "data=np.array([1,2,3,4,5,6,7,8,9,10])"
   ]
  },
  {
   "cell_type": "markdown",
   "id": "fac42930",
   "metadata": {},
   "source": [
    "#### Prepare for cross validation"
   ]
  },
  {
   "cell_type": "code",
   "execution_count": 3,
   "id": "351b8973",
   "metadata": {},
   "outputs": [],
   "source": [
    "kfold=KFold(n_splits =3,shuffle =True,random_state =1)"
   ]
  },
  {
   "cell_type": "markdown",
   "id": "0734f2ee",
   "metadata": {},
   "source": [
    "#### enumerate splits"
   ]
  },
  {
   "cell_type": "code",
   "execution_count": 5,
   "id": "4da05abd",
   "metadata": {},
   "outputs": [
    {
     "name": "stdout",
     "output_type": "stream",
     "text": [
      "train :[1 2 4 6 8 9], test :[ 3  5  7 10]\n",
      "train :[ 3  5  6  7  8  9 10], test :[1 2 4]\n",
      "train :[ 1  2  3  4  5  7 10], test :[6 8 9]\n"
     ]
    }
   ],
   "source": [
    "for train,test in kfold.split(data):\n",
    "    print(\"train :%s, test :%s\"%(data[train],data[test]))"
   ]
  },
  {
   "cell_type": "markdown",
   "id": "234e3cc7",
   "metadata": {},
   "source": [
    "## Variations on Cross-Validation\n",
    "### There are a number of variations on the k-fold cross validation procedure.\n",
    "\n",
    "### Three commonly used variations are as follows:\n",
    "\n",
    "* Train/Test Split: Taken to one extreme, k may be set to 2 (not 1) such that a single train/test split is created to evaluate the model.\n",
    "* LOOCV: Taken to another extreme, k may be set to the total number of observations in the dataset such that each observation is given a chance to be the held out of the dataset. This is called leave-one-out cross-validation, or LOOCV for short.\n",
    "* Stratified: The splitting of data into folds may be governed by criteria such as ensuring that each fold has the same proportion of observations with a given categorical value, such as the class outcome value. This is called stratified cross-validation.\n",
    "* Repeated: This is where the k-fold cross-validation procedure is repeated n times, where importantly, the data sample is shuffled prior to each repetition, which results in a different split of the sample.\n",
    "* Nested: This is where k-fold cross-validation is performed within each fold of cross-validation, often to perform hyperparameter tuning during model evaluation. This is called nested cross-validation or double cross-validation"
   ]
  },
  {
   "cell_type": "code",
   "execution_count": null,
   "id": "50cfb05d",
   "metadata": {},
   "outputs": [],
   "source": []
  }
 ],
 "metadata": {
  "kernelspec": {
   "display_name": "Python 3 (ipykernel)",
   "language": "python",
   "name": "python3"
  },
  "language_info": {
   "codemirror_mode": {
    "name": "ipython",
    "version": 3
   },
   "file_extension": ".py",
   "mimetype": "text/x-python",
   "name": "python",
   "nbconvert_exporter": "python",
   "pygments_lexer": "ipython3",
   "version": "3.8.12"
  }
 },
 "nbformat": 4,
 "nbformat_minor": 5
}
