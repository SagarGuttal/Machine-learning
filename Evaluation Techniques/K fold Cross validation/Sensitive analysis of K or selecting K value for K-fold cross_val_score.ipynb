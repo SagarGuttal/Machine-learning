{
 "cells": [
  {
   "cell_type": "markdown",
   "id": "90984641",
   "metadata": {},
   "source": [
    "# Sensitivity Analysis for k #\n",
    "### The key configuration parameter for k-fold cross-validation is k that defines the number folds in which to split a given dataset.\n",
    "* Common values are k=3, k=5, and k=10, and by far the most popular value used in applied machine learning to evaluate models is k=10. The reason for this is studies were performed and k=10 was found to provide good trade-off of low computational cost and low bias in an estimate of model performance.\n",
    "\n",
    "## How do we know what value of k to use when evaluating models on our own dataset?\n",
    "* One approach to answering this question is to perform a sensitivity analysis for different k values. That is, evaluate the performance of the same model on the same dataset with different values of k and see how they compare."
   ]
  },
  {
   "cell_type": "markdown",
   "id": "a410d357",
   "metadata": {},
   "source": [
    "### Note:-\n",
    "* we can simulate this case using the leave-one-out cross-validation (LOOCV), a computationally expensive version of cross-validation where k=N, and N is the total number of examples in the training dataset. That is, each sample in the training set is given an example to be used alone as the test evaluation dataset. It is rarely used for large datasets as it is computationally expensive, although it can provide a good estimate of model performance given the available data\n",
    "* We can then compare the mean classification accuracy for different k values to the mean classification accuracy from LOOCV on the same dataset. The difference between the scores provides a rough proxy for how well a k value approximates the ideal model evaluation test condition."
   ]
  },
  {
   "cell_type": "markdown",
   "id": "c38838b9",
   "metadata": {},
   "source": [
    "## Implementation in python and its libraries\n",
    "### Steps:-\n",
    "* Create or Load a dataset\n",
    "* Create a cross validation class(F-fold)\n",
    "* Create a model\n",
    "* evaluate a model using cross_val_score with different K values\n",
    "* plot accuracy of different K values\n",
    "* Compare model mean scores with K-fold class to LOOCV class \n"
   ]
  },
  {
   "cell_type": "code",
   "execution_count": 1,
   "id": "03a061a9",
   "metadata": {},
   "outputs": [],
   "source": [
    "import pandas as pd\n",
    "import numpy as np\n",
    "import matplotlib.pyplot as plt\n",
    "from sklearn.datasets import make_classification\n",
    "from sklearn.model_selection import KFold, LeaveOneOut, cross_val_score\n",
    "from sklearn.linear_model import LogisticRegression"
   ]
  },
  {
   "cell_type": "code",
   "execution_count": 7,
   "id": "72f33672",
   "metadata": {},
   "outputs": [],
   "source": [
    "# create a data set\n",
    "def get_dataset(n_samples=100):\n",
    "    X,y=make_classification(n_samples=n_samples,n_features=20,n_informative=15,n_redundant=5,random_state=1)\n",
    "    return X,y\n",
    "# retrieve the model to be evaluate\n",
    "def get_model():\n",
    "    model=LogisticRegression()\n",
    "    return model"
   ]
  },
  {
   "cell_type": "code",
   "execution_count": 12,
   "id": "975f73cd",
   "metadata": {},
   "outputs": [],
   "source": [
    "## Evaluate model usning cross_val_score \n",
    "#here CV is class of cross_val_score\n",
    "def evaluate_model(cv):\n",
    "    X,y=get_dataset()\n",
    "    model=get_model()\n",
    "    scores=cross_val_score(model, X, y, scoring='accuracy', cv=cv, n_jobs=-1)\n",
    "    return np.mean(scores),np.min(scores),np.max(scores)"
   ]
  },
  {
   "cell_type": "markdown",
   "id": "894e785e",
   "metadata": {},
   "source": [
    "### Evaluate the model with ideal test condition using LOOCV"
   ]
  },
  {
   "cell_type": "code",
   "execution_count": 14,
   "id": "a00d856a",
   "metadata": {},
   "outputs": [
    {
     "name": "stdout",
     "output_type": "stream",
     "text": [
      "Ideal :0.840\n"
     ]
    }
   ],
   "source": [
    "ideal, _, _ = evaluate_model(LeaveOneOut())\n",
    "print(\"Ideal :%.3f\"% ideal)\n",
    "# print(ideal)"
   ]
  },
  {
   "cell_type": "markdown",
   "id": "7fc485f8",
   "metadata": {},
   "source": [
    "### Evaluate the model with K-fold cross validation with K is value 2 to 30"
   ]
  },
  {
   "cell_type": "code",
   "execution_count": 15,
   "id": "51d6200f",
   "metadata": {},
   "outputs": [],
   "source": [
    "Folds=range(2,31)"
   ]
  },
  {
   "cell_type": "code",
   "execution_count": 16,
   "id": "8f98e51a",
   "metadata": {},
   "outputs": [
    {
     "name": "stdout",
     "output_type": "stream",
     "text": [
      "> folds=2, accuracy=0.740 (0.700,0.780)\n",
      "> folds=3, accuracy=0.749 (0.697,0.824)\n",
      "> folds=4, accuracy=0.790 (0.640,0.920)\n",
      "> folds=5, accuracy=0.810 (0.600,0.950)\n",
      "> folds=6, accuracy=0.820 (0.688,0.941)\n",
      "> folds=7, accuracy=0.799 (0.571,1.000)\n",
      "> folds=8, accuracy=0.811 (0.385,0.923)\n",
      "> folds=9, accuracy=0.829 (0.636,1.000)\n",
      "> folds=10, accuracy=0.850 (0.600,1.000)\n",
      "> folds=11, accuracy=0.829 (0.667,1.000)\n",
      "> folds=12, accuracy=0.785 (0.250,1.000)\n",
      "> folds=13, accuracy=0.839 (0.571,1.000)\n",
      "> folds=14, accuracy=0.807 (0.429,1.000)\n",
      "> folds=15, accuracy=0.821 (0.571,1.000)\n",
      "> folds=16, accuracy=0.827 (0.500,1.000)\n",
      "> folds=17, accuracy=0.816 (0.600,1.000)\n",
      "> folds=18, accuracy=0.831 (0.600,1.000)\n",
      "> folds=19, accuracy=0.826 (0.600,1.000)\n",
      "> folds=20, accuracy=0.830 (0.600,1.000)\n",
      "> folds=21, accuracy=0.814 (0.500,1.000)\n",
      "> folds=22, accuracy=0.820 (0.500,1.000)\n",
      "> folds=23, accuracy=0.802 (0.250,1.000)\n",
      "> folds=24, accuracy=0.804 (0.250,1.000)\n",
      "> folds=25, accuracy=0.810 (0.250,1.000)\n",
      "> folds=26, accuracy=0.804 (0.250,1.000)\n",
      "> folds=27, accuracy=0.818 (0.250,1.000)\n",
      "> folds=28, accuracy=0.821 (0.250,1.000)\n",
      "> folds=29, accuracy=0.822 (0.250,1.000)\n",
      "> folds=30, accuracy=0.822 (0.333,1.000)\n"
     ]
    }
   ],
   "source": [
    "#record mean, max, min of each set of results\n",
    "means,mins,maxs =list(),list(),list()\n",
    "#evaluate model with k value\n",
    "for k in Folds:\n",
    "    #define the class of cross_val_score\n",
    "    cv=KFold(n_splits=k, shuffle=True, random_state=1)\n",
    "    #evaluate model with k values\n",
    "    k_mean,k_min,k_max=evaluate_model(cv)\n",
    "    # report performance\n",
    "    print('> folds=%d, accuracy=%.3f (%.3f,%.3f)' % (k, k_mean, k_min, k_max))\n",
    "    means.append(k_mean)\n",
    "    mins.append(k_min)\n",
    "    maxs.append(k_max)"
   ]
  },
  {
   "cell_type": "code",
   "execution_count": 20,
   "id": "09a34e3a",
   "metadata": {},
   "outputs": [
    {
     "data": {
      "image/png": "[encoded data removed]",
      "text/plain": [
       "<Figure size 1080x576 with 1 Axes>"
      ]
     },
     "metadata": {
      "needs_background": "light"
     },
     "output_type": "display_data"
    }
   ],
   "source": [
    "# line plot of k mean values with min/max error bars\n",
    "plt.figure(figsize=(15,8))\n",
    "plt.errorbar(Folds, means, yerr=[mins, maxs], fmt='o')\n",
    "# plot the ideal case in a separate color\n",
    "plt.plot(Folds, [ideal for _ in range(len(Folds))], color='r')\n",
    "# show the plot\n",
    "plt.show()"
   ]
  },
  {
   "cell_type": "code",
   "execution_count": null,
   "id": "7725d1b9",
   "metadata": {},
   "outputs": [],
   "source": []
  }
 ],
 "metadata": {
  "kernelspec": {
   "display_name": "Python 3 (ipykernel)",
   "language": "python",
   "name": "python3"
  },
  "language_info": {
   "codemirror_mode": {
    "name": "ipython",
    "version": 3
   },
   "file_extension": ".py",
   "mimetype": "text/x-python",
   "name": "python",
   "nbconvert_exporter": "python",
   "pygments_lexer": "ipython3",
   "version": "3.8.12"
  }
 },
 "nbformat": 4,
 "nbformat_minor": 5
}
