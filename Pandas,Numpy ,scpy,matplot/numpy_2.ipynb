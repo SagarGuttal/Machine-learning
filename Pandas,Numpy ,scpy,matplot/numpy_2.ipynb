{
 "cells": [
  {
   "cell_type": "code",
   "execution_count": 1,
   "id": "9014c991",
   "metadata": {},
   "outputs": [],
   "source": [
    "import numpy as np"
   ]
  },
  {
   "cell_type": "code",
   "execution_count": 2,
   "id": "cab941de",
   "metadata": {},
   "outputs": [],
   "source": [
    "# #Iterating Arrays\n",
    "# Iterating means going through elements one by one.\n",
    "# As we deal with multi-dimensional arrays in numpy, we can do this using basic for loop of python.\n",
    "# If we iterate on a 1-D array it will go through each element one by one."
   ]
  },
  {
   "cell_type": "code",
   "execution_count": 3,
   "id": "4de9cc95",
   "metadata": {},
   "outputs": [
    {
     "name": "stdout",
     "output_type": "stream",
     "text": [
      "1\n",
      "2\n",
      "3\n",
      "4\n",
      "5\n"
     ]
    }
   ],
   "source": [
    "#Iterating 1D array\n",
    "arr=np.array([1,2,3,4,5])\n",
    "for x in arr:\n",
    "    print(x)"
   ]
  },
  {
   "cell_type": "code",
   "execution_count": 8,
   "id": "e8a1fac9",
   "metadata": {},
   "outputs": [
    {
     "name": "stdout",
     "output_type": "stream",
     "text": [
      "[1, 2, 3, 4, 5]\n",
      "[6, 5, 4, 3, 2, 1]\n"
     ]
    }
   ],
   "source": [
    "#Iterating 2D array\n",
    "arr=np.array([[1,2,3,4,5],[6,5,4,3,2,1]],dtype=object)\n",
    "for x in arr:\n",
    "    print(x)"
   ]
  },
  {
   "cell_type": "code",
   "execution_count": 9,
   "id": "55252fe0",
   "metadata": {},
   "outputs": [
    {
     "name": "stdout",
     "output_type": "stream",
     "text": [
      "1\n",
      "2\n",
      "3\n",
      "4\n",
      "5\n",
      "6\n",
      "5\n",
      "4\n",
      "3\n",
      "2\n",
      "1\n"
     ]
    }
   ],
   "source": [
    "#Iterate on each scalar element of the 2-D array:\n",
    "arr=np.array([[1,2,3,4,5],[6,5,4,3,2,1]],dtype=object)\n",
    "for x in arr:\n",
    "    for y in x:\n",
    "        print(y)"
   ]
  },
  {
   "cell_type": "code",
   "execution_count": 10,
   "id": "e8c1e2ff",
   "metadata": {},
   "outputs": [
    {
     "name": "stdout",
     "output_type": "stream",
     "text": [
      "[[1 2 3]\n",
      " [4 5 6]]\n",
      "[[ 7  8  9]\n",
      " [10 11 12]]\n"
     ]
    }
   ],
   "source": [
    "#Iterate on the elements of the following 3-D array\n",
    "arr = np.array([[[1, 2, 3], [4, 5, 6]], [[7, 8, 9], [10, 11, 12]]])\n",
    "for x in arr:\n",
    "    print(x)"
   ]
  },
  {
   "cell_type": "code",
   "execution_count": 14,
   "id": "5c71b582",
   "metadata": {},
   "outputs": [
    {
     "name": "stdout",
     "output_type": "stream",
     "text": [
      "1\n",
      "2\n",
      "3\n",
      "4\n",
      "5\n",
      "6\n",
      "7\n",
      "8\n",
      "9\n",
      "10\n",
      "11\n",
      "12\n"
     ]
    }
   ],
   "source": [
    "#Iterate on each scalar element of the 3-D array:\n",
    "arr = np.array([[[1, 2, 3], [4, 5, 6]], [[7, 8, 9], [10, 11, 12]]])\n",
    "for x in arr:\n",
    "    for y in x:\n",
    "        for z in y:\n",
    "            print(z)"
   ]
  },
  {
   "cell_type": "code",
   "execution_count": 15,
   "id": "01d44ff1",
   "metadata": {},
   "outputs": [],
   "source": [
    "# Iterating Arrays Using nditer()\n",
    "# The function nditer() is a helping function that can be used from very basic to very advanced iterations. It solves some basic issues which we face in iteration, lets go through it with examples.\n",
    "# Iterating on Each Scalar Element\n",
    "# In basic for loops, iterating through each scalar of an array we need to use n for loops which can be difficult to write for arrays with very high dimensionality."
   ]
  },
  {
   "cell_type": "code",
   "execution_count": 16,
   "id": "b85d7f0b",
   "metadata": {},
   "outputs": [
    {
     "name": "stdout",
     "output_type": "stream",
     "text": [
      "1\n",
      "2\n",
      "3\n",
      "4\n",
      "5\n",
      "6\n",
      "7\n",
      "8\n"
     ]
    }
   ],
   "source": [
    "#iterating using nditer method in numpy\n",
    "arr = np.array([[[1, 2], [3, 4]], [[5, 6], [7, 8]]])\n",
    "\n",
    "for x in np.nditer(arr):\n",
    "    print(x)"
   ]
  },
  {
   "cell_type": "code",
   "execution_count": 18,
   "id": "4983f33a",
   "metadata": {},
   "outputs": [
    {
     "name": "stdout",
     "output_type": "stream",
     "text": [
      "b'1'\n",
      "b'2'\n",
      "b'3'\n"
     ]
    }
   ],
   "source": [
    "# Iterating Array With Different Data Types\n",
    "# We can use op_dtypes argument and pass it the expected datatype to change the datatype of elements while iterating.\n",
    "# NumPy does not change the data type of the element in-place (where the element is in array) so it needs some other space to perform this action, that extra space is called buffer, and in order to enable it in nditer() we pass flags=['buffered'].\n",
    "arr = np.array([1, 2, 3])\n",
    "for x in np.nditer(arr,flags=['buffered'],  op_dtypes=['S']):\n",
    "    print(x)"
   ]
  },
  {
   "cell_type": "code",
   "execution_count": 19,
   "id": "1fe30242",
   "metadata": {},
   "outputs": [
    {
     "name": "stdout",
     "output_type": "stream",
     "text": [
      "1\n",
      "3\n",
      "5\n",
      "7\n"
     ]
    }
   ],
   "source": [
    "#Iterate through every scalar element of the 2D array skipping element with step 2\n",
    "arr = np.array([[1, 2, 3, 4], [5, 6, 7, 8]])\n",
    "\n",
    "for x in np.nditer(arr[:, ::2]):\n",
    "    print(x)"
   ]
  },
  {
   "cell_type": "code",
   "execution_count": 20,
   "id": "8c7b6474",
   "metadata": {},
   "outputs": [
    {
     "name": "stdout",
     "output_type": "stream",
     "text": [
      "(0,) 0\n",
      "(1,) 1\n",
      "(2,) 2\n",
      "(3,) 3\n",
      "(4,) 4\n",
      "(5,) 5\n"
     ]
    }
   ],
   "source": [
    "# #\n",
    "# Enumerated Iteration Using ndenumerate()\n",
    "# Enumeration means mentioning sequence number of somethings one by one\n",
    "arr=np.array([0,1,2,3,4,5])\n",
    "for index,x in np.ndenumerate(arr):\n",
    "    print(index,x)"
   ]
  },
  {
   "cell_type": "code",
   "execution_count": 22,
   "id": "ccd60f5e",
   "metadata": {},
   "outputs": [
    {
     "name": "stdout",
     "output_type": "stream",
     "text": [
      "(0,) [1, 2, 3, 4, 5]\n",
      "(1,) [4, 5, 6, 7, 8, 9]\n"
     ]
    }
   ],
   "source": [
    "#2D array\n",
    "arr=np.array([[1,2,3,4,5],[4,5,6,7,8,9]],dtype=object)\n",
    "for indx,x in np.ndenumerate(arr):\n",
    "    print(indx,x)"
   ]
  },
  {
   "cell_type": "code",
   "execution_count": 25,
   "id": "bb425982",
   "metadata": {},
   "outputs": [
    {
     "data": {
      "text/plain": [
       "array([ 1,  2,  3,  4,  5,  6,  7,  8,  9, 10])"
      ]
     },
     "execution_count": 25,
     "metadata": {},
     "output_type": "execute_result"
    }
   ],
   "source": [
    "# Joining NumPy Arrays using numpy concatenate method\n",
    "#join along with rows\n",
    "arr1=np.array([1,2,3,4,5])\n",
    "arr2=np.array([6,7,8,9,10])\n",
    "new_arr=np.concatenate((arr1,arr2))\n",
    "new_arr"
   ]
  },
  {
   "cell_type": "code",
   "execution_count": 28,
   "id": "cbc6a53d",
   "metadata": {},
   "outputs": [
    {
     "data": {
      "text/plain": [
       "array([[ 1,  2,  3,  6,  7,  8],\n",
       "       [ 4,  5,  6,  9, 10, 11]])"
      ]
     },
     "execution_count": 28,
     "metadata": {},
     "output_type": "execute_result"
    }
   ],
   "source": [
    "#join along with column axis=1\n",
    "arr1=np.array([[1,2,3],[4,5,6]])\n",
    "arr2=np.array([[6,7,8],[9,10,11]])\n",
    "new_arr=np.concatenate((arr1,arr2),axis=1)\n",
    "new_arr"
   ]
  },
  {
   "cell_type": "code",
   "execution_count": null,
   "id": "391a01f1",
   "metadata": {},
   "outputs": [],
   "source": [
    "# Joining Arrays Using Stack Functions\n",
    "# Stacking is same as concatenation, the only difference is that stacking is done along a new axis.\n",
    "\n",
    "# We can concatenate two 1-D arrays along the second axis which would result in putting them one over the other, ie. stacking.\n",
    "\n",
    "# We pass a sequence of arrays that we want to join to the stack() method along with the axis. If axis is not explicitly passed it is taken as 0."
   ]
  },
  {
   "cell_type": "code",
   "execution_count": 32,
   "id": "4e06be35",
   "metadata": {},
   "outputs": [
    {
     "data": {
      "text/plain": [
       "array([[ 1,  6],\n",
       "       [ 2,  7],\n",
       "       [ 3,  8],\n",
       "       [ 4,  9],\n",
       "       [ 5, 10]])"
      ]
     },
     "execution_count": 32,
     "metadata": {},
     "output_type": "execute_result"
    }
   ],
   "source": [
    "arr1=np.array([1,2,3,4,5])\n",
    "arr2=np.array([6,7,8,9,10])\n",
    "n_a=np.stack((arr1,arr2),axis=1)\n",
    "n_a"
   ]
  },
  {
   "cell_type": "code",
   "execution_count": null,
   "id": "7281a57e",
   "metadata": {},
   "outputs": [],
   "source": [
    "# Stacking Along Rows\n",
    "# NumPy provides a helper function: hstack() to stack along rows."
   ]
  },
  {
   "cell_type": "code",
   "execution_count": 33,
   "id": "70847d33",
   "metadata": {},
   "outputs": [
    {
     "data": {
      "text/plain": [
       "array([1, 2, 3, 4, 5, 6])"
      ]
     },
     "execution_count": 33,
     "metadata": {},
     "output_type": "execute_result"
    }
   ],
   "source": [
    "arr1 = np.array([1, 2, 3])\n",
    "arr2 = np.array([4, 5, 6])\n",
    "x=np.hstack((arr1,arr2))\n",
    "x"
   ]
  },
  {
   "cell_type": "code",
   "execution_count": null,
   "id": "e5f60454",
   "metadata": {},
   "outputs": [],
   "source": [
    "# Stacking Along columns\n",
    "# NumPy provides a helper function: vstack() to stack along columns"
   ]
  },
  {
   "cell_type": "code",
   "execution_count": 34,
   "id": "f9a9b8d5",
   "metadata": {},
   "outputs": [
    {
     "data": {
      "text/plain": [
       "array([[1, 2, 3],\n",
       "       [4, 5, 6]])"
      ]
     },
     "execution_count": 34,
     "metadata": {},
     "output_type": "execute_result"
    }
   ],
   "source": [
    "arr1 = np.array([1, 2, 3])\n",
    "arr2 = np.array([4, 5, 6])\n",
    "x=np.vstack((arr1,arr2))\n",
    "x"
   ]
  },
  {
   "cell_type": "code",
   "execution_count": 38,
   "id": "a4bf6d2f",
   "metadata": {},
   "outputs": [],
   "source": [
    "# Stacking Along Height (depth)\n",
    "# NumPy provides a helper function: dstack() to stack along height, which is the same as depth."
   ]
  },
  {
   "cell_type": "code",
   "execution_count": 39,
   "id": "c6a9c900",
   "metadata": {},
   "outputs": [
    {
     "data": {
      "text/plain": [
       "array([[[1, 4],\n",
       "        [2, 5],\n",
       "        [3, 6]]])"
      ]
     },
     "execution_count": 39,
     "metadata": {},
     "output_type": "execute_result"
    }
   ],
   "source": [
    "arr1 = np.array([1, 2, 3])\n",
    "arr2 = np.array([4, 5, 6])\n",
    "x=np.dstack((arr1,arr2))\n",
    "x"
   ]
  },
  {
   "cell_type": "code",
   "execution_count": 40,
   "id": "b75cbc94",
   "metadata": {},
   "outputs": [],
   "source": [
    "# Splitting NumPy Arrays\n",
    "# Splitting is reverse operation of Joining.\n",
    "\n",
    "# Joining merges multiple arrays into one and Splitting breaks one array into multiple.\n",
    "\n",
    "# We use array_split() for splitting arrays, we pass it the array we want to split and the number of splits"
   ]
  },
  {
   "cell_type": "code",
   "execution_count": 42,
   "id": "3eef6d36",
   "metadata": {},
   "outputs": [
    {
     "name": "stdout",
     "output_type": "stream",
     "text": [
      "[0 2 4 6 8]\n",
      "[array([0, 2]), array([4, 6]), array([8])]\n"
     ]
    }
   ],
   "source": [
    "arr=np.arange(0,10,2)\n",
    "print(arr)\n",
    "n_p=np.array_split(arr,3)\n",
    "print(n_p)\n"
   ]
  },
  {
   "cell_type": "code",
   "execution_count": 44,
   "id": "2fb83add",
   "metadata": {},
   "outputs": [
    {
     "name": "stdout",
     "output_type": "stream",
     "text": [
      "[ 0  5 10 15 20 25 30 35 40 45]\n"
     ]
    },
    {
     "data": {
      "text/plain": [
       "[array([ 0,  5, 10]), array([15, 20, 25]), array([30, 35]), array([40, 45])]"
      ]
     },
     "execution_count": 44,
     "metadata": {},
     "output_type": "execute_result"
    }
   ],
   "source": [
    "arr=np.arange(0,50,5)\n",
    "print(arr)\n",
    "n_p=np.array_split(arr,4)\n",
    "n_p"
   ]
  },
  {
   "cell_type": "code",
   "execution_count": 45,
   "id": "305ecd1f",
   "metadata": {},
   "outputs": [],
   "source": [
    "# Searching Arrays\n",
    "# You can search an array for a certain value, and return the indexes that get a match.\n",
    "\n",
    "# To search an array, use the where() method."
   ]
  },
  {
   "cell_type": "code",
   "execution_count": 52,
   "id": "3101294c",
   "metadata": {},
   "outputs": [
    {
     "data": {
      "text/plain": [
       "(array([1, 2, 4, 6, 9], dtype=int64),)"
      ]
     },
     "execution_count": 52,
     "metadata": {},
     "output_type": "execute_result"
    }
   ],
   "source": [
    "#in this it returns the tuple where 2 is present at the index\n",
    "# Which means that the value 4 is present at index 1,2,4,6 and 9.\n",
    "arr=np.array([1,2,2,5,2,7,2,4,1,2],dtype=int)\n",
    "x=np.where(arr==2)\n",
    "x"
   ]
  },
  {
   "cell_type": "code",
   "execution_count": 53,
   "id": "78efa392",
   "metadata": {},
   "outputs": [
    {
     "data": {
      "text/plain": [
       "(array([1, 3, 5, 7, 9], dtype=int64),)"
      ]
     },
     "execution_count": 53,
     "metadata": {},
     "output_type": "execute_result"
    }
   ],
   "source": [
    "#Find the indexes where the values are odd:\n",
    "arr=np.arange(0,10)\n",
    "new=np.where(arr%2==1)\n",
    "new"
   ]
  },
  {
   "cell_type": "code",
   "execution_count": 60,
   "id": "b73f0a42",
   "metadata": {},
   "outputs": [
    {
     "data": {
      "text/plain": [
       "(array([7], dtype=int64),)"
      ]
     },
     "execution_count": 60,
     "metadata": {},
     "output_type": "execute_result"
    }
   ],
   "source": [
    "#Find the indexes where the names are in even index:\n",
    "arr=np.array([\"A\",\"B\",\"C\",\"D\",\"E\",\"F\",\"G\",\"H\",\"I\",\"J\",\"K\",\"L\",\"M\",\"N\"],dtype=object)\n",
    "new=np.where(arr==([\"H\"]))\n",
    "new\n",
    "# H is in the 7 th index"
   ]
  },
  {
   "cell_type": "code",
   "execution_count": 61,
   "id": "ee8fb4c9",
   "metadata": {},
   "outputs": [
    {
     "data": {
      "text/plain": [
       "4"
      ]
     },
     "execution_count": 61,
     "metadata": {},
     "output_type": "execute_result"
    }
   ],
   "source": [
    "# Search Sorted\n",
    "# There is a method called searchsorted() which performs a binary search in the array, and returns the index where the specified value would be inserted to maintain the search order\n",
    "arr=np.array([\"A\",\"B\",\"C\",\"D\",\"E\",\"F\",\"G\",\"H\",\"I\",\"J\",\"K\",\"L\",\"M\",\"N\"],dtype=object)\n",
    "new=np.searchsorted(arr,\"E\")\n",
    "new\n",
    "#E is at 4th index"
   ]
  },
  {
   "cell_type": "code",
   "execution_count": 62,
   "id": "8efd8366",
   "metadata": {},
   "outputs": [
    {
     "data": {
      "text/plain": [
       "5"
      ]
     },
     "execution_count": 62,
     "metadata": {},
     "output_type": "execute_result"
    }
   ],
   "source": [
    "#Find the indexes where the value E should be inserted, starting from the right:\n",
    "arr=np.array([\"A\",\"B\",\"C\",\"D\",\"E\",\"F\",\"G\",\"H\",\"I\",\"J\",\"K\",\"L\",\"M\",\"N\"],dtype=object)\n",
    "new=np.searchsorted(arr,\"E\", side='right')\n",
    "new\n",
    "#E is at 4th index"
   ]
  },
  {
   "cell_type": "code",
   "execution_count": 63,
   "id": "1afd0608",
   "metadata": {},
   "outputs": [
    {
     "data": {
      "text/plain": [
       "array([   0,    3,    4,    5,    6,    8,   25,   44,  664,  888, 2615])"
      ]
     },
     "execution_count": 63,
     "metadata": {},
     "output_type": "execute_result"
    }
   ],
   "source": [
    "#Sorting of array using numpy sort() method\n",
    "arr=np.array([0,25,8,44,6,888,664,2615,3,4,5])\n",
    "new_arr=np.sort(arr)\n",
    "new_arr"
   ]
  },
  {
   "cell_type": "code",
   "execution_count": 64,
   "id": "5caf6d04",
   "metadata": {},
   "outputs": [
    {
     "name": "stdout",
     "output_type": "stream",
     "text": [
      "['apple' 'banana' 'cherry']\n"
     ]
    }
   ],
   "source": [
    "#alphabatically sorting\n",
    "arr = np.array(['banana', 'cherry', 'apple'])\n",
    "print(np.sort(arr))"
   ]
  },
  {
   "cell_type": "code",
   "execution_count": 65,
   "id": "cc93a0ef",
   "metadata": {},
   "outputs": [
    {
     "name": "stdout",
     "output_type": "stream",
     "text": [
      "[False  True  True]\n"
     ]
    }
   ],
   "source": [
    "#sort bool value\n",
    "arr = np.array([True, False, True])\n",
    "print(np.sort(arr))"
   ]
  },
  {
   "cell_type": "code",
   "execution_count": 66,
   "id": "d8ab2de2",
   "metadata": {},
   "outputs": [
    {
     "name": "stdout",
     "output_type": "stream",
     "text": [
      "[[2 3 4]\n",
      " [0 1 5]]\n"
     ]
    }
   ],
   "source": [
    "# Sorting a 2-D Array\n",
    "# If you use the sort() method on a 2-D array, both arrays will be sorted:\n",
    "arr = np.array([[3, 2, 4], [5, 0, 1]])\n",
    "print(np.sort(arr))"
   ]
  },
  {
   "cell_type": "code",
   "execution_count": null,
   "id": "110a673b",
   "metadata": {},
   "outputs": [],
   "source": []
  }
 ],
 "metadata": {
  "kernelspec": {
   "display_name": "Python 3 (ipykernel)",
   "language": "python",
   "name": "python3"
  },
  "language_info": {
   "codemirror_mode": {
    "name": "ipython",
    "version": 3
   },
   "file_extension": ".py",
   "mimetype": "text/x-python",
   "name": "python",
   "nbconvert_exporter": "python",
   "pygments_lexer": "ipython3",
   "version": "3.8.12"
  }
 },
 "nbformat": 4,
 "nbformat_minor": 5
}
