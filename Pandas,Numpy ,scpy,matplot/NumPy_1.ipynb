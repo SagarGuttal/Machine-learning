{
 "cells": [
  {
   "cell_type": "code",
   "execution_count": 1,
   "id": "2d7638f1",
   "metadata": {},
   "outputs": [],
   "source": [
    "import numpy as np"
   ]
  },
  {
   "cell_type": "code",
   "execution_count": 2,
   "id": "60ef7cf2",
   "metadata": {},
   "outputs": [
    {
     "name": "stdout",
     "output_type": "stream",
     "text": [
      "[1 2 3 4 5 6]\n"
     ]
    },
    {
     "data": {
      "text/plain": [
       "(6,)"
      ]
     },
     "execution_count": 2,
     "metadata": {},
     "output_type": "execute_result"
    }
   ],
   "source": [
    "#Creating a array\n",
    "array=np.array([1,2,3,4,5,6])\n",
    "print(array)\n",
    "type(array)\n",
    "array.shape"
   ]
  },
  {
   "cell_type": "code",
   "execution_count": 3,
   "id": "19a02917",
   "metadata": {},
   "outputs": [
    {
     "name": "stdout",
     "output_type": "stream",
     "text": [
      "[1 2 3 4 5]\n"
     ]
    },
    {
     "data": {
      "text/plain": [
       "(5,)"
      ]
     },
     "execution_count": 3,
     "metadata": {},
     "output_type": "execute_result"
    }
   ],
   "source": [
    "arr = np.array((1, 2, 3, 4, 5))\n",
    "print(arr)\n",
    "type(arr)\n",
    "arr.shape"
   ]
  },
  {
   "cell_type": "code",
   "execution_count": 4,
   "id": "4e542bff",
   "metadata": {},
   "outputs": [
    {
     "name": "stdout",
     "output_type": "stream",
     "text": [
      "[[1 2 3]\n",
      " [4 5 6]]\n",
      "<class 'numpy.ndarray'>\n",
      "(2, 3)\n"
     ]
    }
   ],
   "source": [
    "two_d_arr=np.array([[1,2,3],[4,5,6]])\n",
    "print(two_d_arr)\n",
    "print(type(two_d_arr))\n",
    "print(two_d_arr.shape)"
   ]
  },
  {
   "cell_type": "code",
   "execution_count": 5,
   "id": "c82d1c46",
   "metadata": {},
   "outputs": [
    {
     "name": "stdout",
     "output_type": "stream",
     "text": [
      "[[[1 2 3]\n",
      "  [4 5 6]]\n",
      "\n",
      " [[1 2 3]\n",
      "  [4 5 6]]]\n",
      "<class 'numpy.ndarray'>\n",
      "(2, 2, 3)\n"
     ]
    }
   ],
   "source": [
    "three_d_arr = np.array([[[1, 2, 3], [4, 5, 6]], [[1, 2, 3], [4, 5, 6]]])\n",
    "print(three_d_arr)\n",
    "print(type(three_d_arr))\n",
    "print(three_d_arr.shape)"
   ]
  },
  {
   "cell_type": "code",
   "execution_count": 6,
   "id": "a310b90e",
   "metadata": {},
   "outputs": [
    {
     "name": "stdout",
     "output_type": "stream",
     "text": [
      "number of dimensions of array a: 0 int32\n",
      "number of dimensions of array b: 1 int32\n",
      "number of dimensions of array c: 2 int32\n",
      "number of dimensions of array d: 3 int32\n"
     ]
    }
   ],
   "source": [
    "#Check how many dimensions the arrays have\n",
    "a = np.array(42)\n",
    "b = np.array([1, 2, 3, 4, 5])\n",
    "c = np.array([[1, 2, 3], [4, 5, 6]])\n",
    "d = np.array([[[1, 2, 3], [4, 5, 6]], [[1, 2, 3], [4, 5, 6]]])\n",
    "\n",
    "print('number of dimensions of array a:',a.ndim,a.dtype)\n",
    "print('number of dimensions of array b:',b.ndim,b.dtype)\n",
    "print('number of dimensions of array c:',c.ndim,c.dtype)\n",
    "print('number of dimensions of array d:',d.ndim,d.dtype)"
   ]
  },
  {
   "cell_type": "code",
   "execution_count": 7,
   "id": "6788823f",
   "metadata": {},
   "outputs": [
    {
     "name": "stdout",
     "output_type": "stream",
     "text": [
      "1\n",
      "2\n",
      "4\n",
      "3\n"
     ]
    }
   ],
   "source": [
    "#Access Array Elements\n",
    "b = np.array([1, 2, 3, 4, 5])\n",
    "print(b[0])\n",
    "print(b[1])\n",
    "print(b[3])\n",
    "#concatinating array elements\n",
    "print(b[0]+b[1])"
   ]
  },
  {
   "cell_type": "code",
   "execution_count": 8,
   "id": "f692614c",
   "metadata": {},
   "outputs": [
    {
     "name": "stdout",
     "output_type": "stream",
     "text": [
      "[[ 1  2  3  4  5]\n",
      " [ 6  7  8  9 10]]\n",
      "2nd element in first row 3\n",
      "4th element in second row 9\n",
      "5th element on 2nd row:  10\n"
     ]
    }
   ],
   "source": [
    "arr = np.array([[1,2,3,4,5], [6,7,8,9,10]])\n",
    "print(arr)\n",
    "#accessing 2nd element in first row\n",
    "print(\"2nd element in first row\",arr[0][2])\n",
    "#accessing 4th element in second row\n",
    "print(\"4th element in second row\",arr[1][3])\n",
    "#accessing 5th element on 2nd row\n",
    "print('5th element on 2nd row: ', arr[1, 4])\n"
   ]
  },
  {
   "cell_type": "code",
   "execution_count": 9,
   "id": "204c155c",
   "metadata": {},
   "outputs": [
    {
     "name": "stdout",
     "output_type": "stream",
     "text": [
      "8\n",
      "['b' 'c' 'd']\n",
      "['a' 'b' 'c' 'd']\n",
      "['a' 'c']\n",
      "['c' '8']\n"
     ]
    }
   ],
   "source": [
    "arr = np.array([[\"a\",\"b\",\"c\",\"d\",\"e\"], [6,7,8,9,10]])\n",
    "print(arr[1,2])\n",
    "print(arr[0,1:4])\n",
    "print(arr[0][0:4])\n",
    "#step\n",
    "print(arr[0][0:4:2])\n",
    "#From both elements, return index 2\n",
    "arr = np.array([[\"a\",\"b\",\"c\",\"d\",\"e\"], [6,7,8,9,10]])\n",
    "print(arr[0:2,2])\n"
   ]
  },
  {
   "cell_type": "code",
   "execution_count": 10,
   "id": "8b3e2e37",
   "metadata": {},
   "outputs": [
    {
     "name": "stdout",
     "output_type": "stream",
     "text": [
      "[1 3 5 7]\n"
     ]
    }
   ],
   "source": [
    "#Return every other element from the entire array:\n",
    "arr = np.array([1, 2, 3, 4, 5, 6, 7])\n",
    "print(arr[::2])"
   ]
  },
  {
   "cell_type": "code",
   "execution_count": 11,
   "id": "b46ca1fe",
   "metadata": {},
   "outputs": [
    {
     "name": "stdout",
     "output_type": "stream",
     "text": [
      "[[2 3 4]\n",
      " [7 8 9]]\n"
     ]
    }
   ],
   "source": [
    "#From both elements, slice index 1 to index 4 (not included), this will return a 2-D array:\n",
    "arr = np.array([[1, 2, 3, 4, 5], [6, 7, 8, 9, 10]])\n",
    "print(arr[0:2,1:4])"
   ]
  },
  {
   "cell_type": "code",
   "execution_count": 12,
   "id": "2829630d",
   "metadata": {},
   "outputs": [
    {
     "name": "stdout",
     "output_type": "stream",
     "text": [
      "<U1\n",
      "int32\n"
     ]
    }
   ],
   "source": [
    "#Get the data type of an array object:\n",
    "#u- unicode string\n",
    "arr2 = np.array([\"a\",\"b\",\"c\",\"d\",\"e\"])\n",
    "arr3=np.array([1,2,3,4,5,6])\n",
    "print(arr2.dtype)\n",
    "print(arr3.dtype)"
   ]
  },
  {
   "cell_type": "code",
   "execution_count": 13,
   "id": "001ddec2",
   "metadata": {},
   "outputs": [
    {
     "name": "stdout",
     "output_type": "stream",
     "text": [
      "[1 2 3 4 5 6 7]\n",
      "[1 2 3 4 5]\n"
     ]
    }
   ],
   "source": [
    "#Change data type in array\n",
    "array1=np.array([1.0,2.3,3.5,4.4,5.9,6.6,7.3], dtype=int)\n",
    "print(array1)\n",
    "array2=np.array([\"1\",\"2\",\"3\",\"4\",\"5\"])\n",
    "array2=array2.astype(int)\n",
    "print(array2)"
   ]
  },
  {
   "cell_type": "code",
   "execution_count": 14,
   "id": "8ee5525c",
   "metadata": {},
   "outputs": [
    {
     "data": {
      "text/plain": [
       "array([ True, False,  True])"
      ]
     },
     "execution_count": 14,
     "metadata": {},
     "output_type": "execute_result"
    }
   ],
   "source": [
    "#Change data type from integer to boolean:\n",
    "arr = np.array([1, 0, 3])\n",
    "new_arr=arr.astype(bool)\n",
    "new_arr"
   ]
  },
  {
   "cell_type": "code",
   "execution_count": 15,
   "id": "3c34d465",
   "metadata": {},
   "outputs": [
    {
     "name": "stdout",
     "output_type": "stream",
     "text": [
      "Original array - ['1' 'sagar' 'revati' 'rohith' '10' 'True']\n",
      "Copy of original array ['1' 'sagar' '3.6' 'rohith' '10' 'True']\n"
     ]
    }
   ],
   "source": [
    "#Make a copy, change the original array, and display both arrays:\n",
    "arr1=np.array([1,\"sagar\",3.6,\"rohith\",10,True])\n",
    "arr2=np.copy(arr1)\n",
    "arr1[2]=\"revati\"\n",
    "print(\"Original array -\",arr1)\n",
    "print(\"Copy of original array\",arr2)"
   ]
  },
  {
   "cell_type": "code",
   "execution_count": 16,
   "id": "bc3a7668",
   "metadata": {},
   "outputs": [
    {
     "name": "stdout",
     "output_type": "stream",
     "text": [
      "[31  2  3  4  5]\n",
      "[31  2  3  4  5]\n"
     ]
    }
   ],
   "source": [
    "#Make a view, change the view, and display both arrays:\n",
    "arr = np.array([1, 2, 3, 4, 5])\n",
    "x = arr.view()\n",
    "x[0] = 31\n",
    "\n",
    "print(arr)\n",
    "print(x)"
   ]
  },
  {
   "cell_type": "code",
   "execution_count": 18,
   "id": "66b1fc9c",
   "metadata": {},
   "outputs": [
    {
     "data": {
      "text/plain": [
       "(3, 5)"
      ]
     },
     "execution_count": 18,
     "metadata": {},
     "output_type": "execute_result"
    }
   ],
   "source": [
    "#3 dimension array\n",
    "array=np.array([[1,2,3,4,5],[11,12,13,14,15],[45,50,55,60,65]])\n",
    "array.shape"
   ]
  },
  {
   "cell_type": "code",
   "execution_count": 21,
   "id": "153a9e6a",
   "metadata": {},
   "outputs": [
    {
     "name": "stdout",
     "output_type": "stream",
     "text": [
      "[[[1 2 3 4 5]]]\n",
      "(1, 1, 5)\n"
     ]
    }
   ],
   "source": [
    "arr1=np.array([1,2,3,4,5],ndmin=3)\n",
    "print(arr1)\n",
    "print(arr1.shape)"
   ]
  },
  {
   "cell_type": "code",
   "execution_count": 26,
   "id": "3524412e",
   "metadata": {},
   "outputs": [
    {
     "name": "stdout",
     "output_type": "stream",
     "text": [
      "(12,)\n",
      "[[ 1  2  3]\n",
      " [ 4  5  6]\n",
      " [ 7  8  9]\n",
      " [10 11 12]]\n",
      "Reshape of array (4, 3)\n"
     ]
    }
   ],
   "source": [
    "#reshape the array\n",
    "arr=np.array([1,2,3,4,5,6,7,8,9,10,11,12])\n",
    "print(arr.shape)\n",
    "#converting 1D array to 4*3-4 array with 3 items each\n",
    "arr2=arr.reshape(4,3)\n",
    "print(arr2)\n",
    "print(\"Reshape of array\",arr2.shape)"
   ]
  },
  {
   "cell_type": "code",
   "execution_count": 27,
   "id": "61cabec9",
   "metadata": {},
   "outputs": [
    {
     "data": {
      "text/plain": [
       "array([[[ 1,  2,  3],\n",
       "        [ 4,  5,  6]],\n",
       "\n",
       "       [[ 7,  8,  9],\n",
       "        [10, 11, 12]]])"
      ]
     },
     "execution_count": 27,
     "metadata": {},
     "output_type": "execute_result"
    }
   ],
   "source": [
    "#converting 1D array to 3D array\n",
    "arr=np.array([1,2,3,4,5,6,7,8,9,10,11,12])\n",
    "arr1=arr.reshape(2,2,3)\n",
    "arr1"
   ]
  },
  {
   "cell_type": "code",
   "execution_count": null,
   "id": "b1be30b8",
   "metadata": {},
   "outputs": [],
   "source": []
  }
 ],
 "metadata": {
  "kernelspec": {
   "display_name": "Python 3 (ipykernel)",
   "language": "python",
   "name": "python3"
  },
  "language_info": {
   "codemirror_mode": {
    "name": "ipython",
    "version": 3
   },
   "file_extension": ".py",
   "mimetype": "text/x-python",
   "name": "python",
   "nbconvert_exporter": "python",
   "pygments_lexer": "ipython3",
   "version": "3.8.12"
  }
 },
 "nbformat": 4,
 "nbformat_minor": 5
}
