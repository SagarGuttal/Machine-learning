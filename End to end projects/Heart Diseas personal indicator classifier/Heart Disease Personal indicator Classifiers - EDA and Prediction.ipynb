{
 "cells": [
  {
   "cell_type": "code",
   "execution_count": 1,
   "id": "7b4305be",
   "metadata": {},
   "outputs": [],
   "source": [
    "import numpy as np\n",
    "import pandas as pd\n",
    "import matplotlib.pyplot as plt\n",
    "import seaborn as sns\n",
    "import warnings\n",
    "warnings.filterwarnings('ignore')"
   ]
  },
  {
   "cell_type": "code",
   "execution_count": 2,
   "id": "b7d96227",
   "metadata": {},
   "outputs": [
    {
     "data": {
      "text/html": [
       "<div>\n",
       "<style scoped>\n",
       "    .dataframe tbody tr th:only-of-type {\n",
       "        vertical-align: middle;\n",
       "    }\n",
       "\n",
       "    .dataframe tbody tr th {\n",
       "        vertical-align: top;\n",
       "    }\n",
       "\n",
       "    .dataframe thead th {\n",
       "        text-align: right;\n",
       "    }\n",
       "</style>\n",
       "<table border=\"1\" class=\"dataframe\">\n",
       "  <thead>\n",
       "    <tr style=\"text-align: right;\">\n",
       "      <th></th>\n",
       "      <th>HeartDisease</th>\n",
       "      <th>BMI</th>\n",
       "      <th>Smoking</th>\n",
       "      <th>AlcoholDrinking</th>\n",
       "      <th>Stroke</th>\n",
       "      <th>PhysicalHealth</th>\n",
       "      <th>MentalHealth</th>\n",
       "      <th>DiffWalking</th>\n",
       "      <th>Sex</th>\n",
       "      <th>AgeCategory</th>\n",
       "      <th>Race</th>\n",
       "      <th>Diabetic</th>\n",
       "      <th>PhysicalActivity</th>\n",
       "      <th>GenHealth</th>\n",
       "      <th>SleepTime</th>\n",
       "      <th>Asthma</th>\n",
       "      <th>KidneyDisease</th>\n",
       "      <th>SkinCancer</th>\n",
       "    </tr>\n",
       "  </thead>\n",
       "  <tbody>\n",
       "    <tr>\n",
       "      <th>0</th>\n",
       "      <td>No</td>\n",
       "      <td>16.60</td>\n",
       "      <td>Yes</td>\n",
       "      <td>No</td>\n",
       "      <td>No</td>\n",
       "      <td>3</td>\n",
       "      <td>30</td>\n",
       "      <td>No</td>\n",
       "      <td>Female</td>\n",
       "      <td>55-59</td>\n",
       "      <td>White</td>\n",
       "      <td>Yes</td>\n",
       "      <td>Yes</td>\n",
       "      <td>Very good</td>\n",
       "      <td>5</td>\n",
       "      <td>Yes</td>\n",
       "      <td>No</td>\n",
       "      <td>Yes</td>\n",
       "    </tr>\n",
       "    <tr>\n",
       "      <th>1</th>\n",
       "      <td>No</td>\n",
       "      <td>20.34</td>\n",
       "      <td>No</td>\n",
       "      <td>No</td>\n",
       "      <td>Yes</td>\n",
       "      <td>0</td>\n",
       "      <td>0</td>\n",
       "      <td>No</td>\n",
       "      <td>Female</td>\n",
       "      <td>80 or older</td>\n",
       "      <td>White</td>\n",
       "      <td>No</td>\n",
       "      <td>Yes</td>\n",
       "      <td>Very good</td>\n",
       "      <td>7</td>\n",
       "      <td>No</td>\n",
       "      <td>No</td>\n",
       "      <td>No</td>\n",
       "    </tr>\n",
       "    <tr>\n",
       "      <th>2</th>\n",
       "      <td>No</td>\n",
       "      <td>26.58</td>\n",
       "      <td>Yes</td>\n",
       "      <td>No</td>\n",
       "      <td>No</td>\n",
       "      <td>20</td>\n",
       "      <td>30</td>\n",
       "      <td>No</td>\n",
       "      <td>Male</td>\n",
       "      <td>65-69</td>\n",
       "      <td>White</td>\n",
       "      <td>Yes</td>\n",
       "      <td>Yes</td>\n",
       "      <td>Fair</td>\n",
       "      <td>8</td>\n",
       "      <td>Yes</td>\n",
       "      <td>No</td>\n",
       "      <td>No</td>\n",
       "    </tr>\n",
       "    <tr>\n",
       "      <th>3</th>\n",
       "      <td>No</td>\n",
       "      <td>24.21</td>\n",
       "      <td>No</td>\n",
       "      <td>No</td>\n",
       "      <td>No</td>\n",
       "      <td>0</td>\n",
       "      <td>0</td>\n",
       "      <td>No</td>\n",
       "      <td>Female</td>\n",
       "      <td>75-79</td>\n",
       "      <td>White</td>\n",
       "      <td>No</td>\n",
       "      <td>No</td>\n",
       "      <td>Good</td>\n",
       "      <td>6</td>\n",
       "      <td>No</td>\n",
       "      <td>No</td>\n",
       "      <td>Yes</td>\n",
       "    </tr>\n",
       "    <tr>\n",
       "      <th>4</th>\n",
       "      <td>No</td>\n",
       "      <td>23.71</td>\n",
       "      <td>No</td>\n",
       "      <td>No</td>\n",
       "      <td>No</td>\n",
       "      <td>28</td>\n",
       "      <td>0</td>\n",
       "      <td>Yes</td>\n",
       "      <td>Female</td>\n",
       "      <td>40-44</td>\n",
       "      <td>White</td>\n",
       "      <td>No</td>\n",
       "      <td>Yes</td>\n",
       "      <td>Very good</td>\n",
       "      <td>8</td>\n",
       "      <td>No</td>\n",
       "      <td>No</td>\n",
       "      <td>No</td>\n",
       "    </tr>\n",
       "    <tr>\n",
       "      <th>...</th>\n",
       "      <td>...</td>\n",
       "      <td>...</td>\n",
       "      <td>...</td>\n",
       "      <td>...</td>\n",
       "      <td>...</td>\n",
       "      <td>...</td>\n",
       "      <td>...</td>\n",
       "      <td>...</td>\n",
       "      <td>...</td>\n",
       "      <td>...</td>\n",
       "      <td>...</td>\n",
       "      <td>...</td>\n",
       "      <td>...</td>\n",
       "      <td>...</td>\n",
       "      <td>...</td>\n",
       "      <td>...</td>\n",
       "      <td>...</td>\n",
       "      <td>...</td>\n",
       "    </tr>\n",
       "    <tr>\n",
       "      <th>319790</th>\n",
       "      <td>Yes</td>\n",
       "      <td>27.41</td>\n",
       "      <td>Yes</td>\n",
       "      <td>No</td>\n",
       "      <td>No</td>\n",
       "      <td>7</td>\n",
       "      <td>0</td>\n",
       "      <td>Yes</td>\n",
       "      <td>Male</td>\n",
       "      <td>60-64</td>\n",
       "      <td>Hispanic</td>\n",
       "      <td>Yes</td>\n",
       "      <td>No</td>\n",
       "      <td>Fair</td>\n",
       "      <td>6</td>\n",
       "      <td>Yes</td>\n",
       "      <td>No</td>\n",
       "      <td>No</td>\n",
       "    </tr>\n",
       "    <tr>\n",
       "      <th>319791</th>\n",
       "      <td>No</td>\n",
       "      <td>29.84</td>\n",
       "      <td>Yes</td>\n",
       "      <td>No</td>\n",
       "      <td>No</td>\n",
       "      <td>0</td>\n",
       "      <td>0</td>\n",
       "      <td>No</td>\n",
       "      <td>Male</td>\n",
       "      <td>35-39</td>\n",
       "      <td>Hispanic</td>\n",
       "      <td>No</td>\n",
       "      <td>Yes</td>\n",
       "      <td>Very good</td>\n",
       "      <td>5</td>\n",
       "      <td>Yes</td>\n",
       "      <td>No</td>\n",
       "      <td>No</td>\n",
       "    </tr>\n",
       "    <tr>\n",
       "      <th>319792</th>\n",
       "      <td>No</td>\n",
       "      <td>24.24</td>\n",
       "      <td>No</td>\n",
       "      <td>No</td>\n",
       "      <td>No</td>\n",
       "      <td>0</td>\n",
       "      <td>0</td>\n",
       "      <td>No</td>\n",
       "      <td>Female</td>\n",
       "      <td>45-49</td>\n",
       "      <td>Hispanic</td>\n",
       "      <td>No</td>\n",
       "      <td>Yes</td>\n",
       "      <td>Good</td>\n",
       "      <td>6</td>\n",
       "      <td>No</td>\n",
       "      <td>No</td>\n",
       "      <td>No</td>\n",
       "    </tr>\n",
       "    <tr>\n",
       "      <th>319793</th>\n",
       "      <td>No</td>\n",
       "      <td>32.81</td>\n",
       "      <td>No</td>\n",
       "      <td>No</td>\n",
       "      <td>No</td>\n",
       "      <td>0</td>\n",
       "      <td>0</td>\n",
       "      <td>No</td>\n",
       "      <td>Female</td>\n",
       "      <td>25-29</td>\n",
       "      <td>Hispanic</td>\n",
       "      <td>No</td>\n",
       "      <td>No</td>\n",
       "      <td>Good</td>\n",
       "      <td>12</td>\n",
       "      <td>No</td>\n",
       "      <td>No</td>\n",
       "      <td>No</td>\n",
       "    </tr>\n",
       "    <tr>\n",
       "      <th>319794</th>\n",
       "      <td>No</td>\n",
       "      <td>46.56</td>\n",
       "      <td>No</td>\n",
       "      <td>No</td>\n",
       "      <td>No</td>\n",
       "      <td>0</td>\n",
       "      <td>0</td>\n",
       "      <td>No</td>\n",
       "      <td>Female</td>\n",
       "      <td>80 or older</td>\n",
       "      <td>Hispanic</td>\n",
       "      <td>No</td>\n",
       "      <td>Yes</td>\n",
       "      <td>Good</td>\n",
       "      <td>8</td>\n",
       "      <td>No</td>\n",
       "      <td>No</td>\n",
       "      <td>No</td>\n",
       "    </tr>\n",
       "  </tbody>\n",
       "</table>\n",
       "<p>319795 rows × 18 columns</p>\n",
       "</div>"
      ],
      "text/plain": [
       "       HeartDisease    BMI Smoking AlcoholDrinking Stroke  PhysicalHealth  \\\n",
       "0                No  16.60     Yes              No     No               3   \n",
       "1                No  20.34      No              No    Yes               0   \n",
       "2                No  26.58     Yes              No     No              20   \n",
       "3                No  24.21      No              No     No               0   \n",
       "4                No  23.71      No              No     No              28   \n",
       "...             ...    ...     ...             ...    ...             ...   \n",
       "319790          Yes  27.41     Yes              No     No               7   \n",
       "319791           No  29.84     Yes              No     No               0   \n",
       "319792           No  24.24      No              No     No               0   \n",
       "319793           No  32.81      No              No     No               0   \n",
       "319794           No  46.56      No              No     No               0   \n",
       "\n",
       "        MentalHealth DiffWalking     Sex  AgeCategory      Race Diabetic  \\\n",
       "0                 30          No  Female        55-59     White      Yes   \n",
       "1                  0          No  Female  80 or older     White       No   \n",
       "2                 30          No    Male        65-69     White      Yes   \n",
       "3                  0          No  Female        75-79     White       No   \n",
       "4                  0         Yes  Female        40-44     White       No   \n",
       "...              ...         ...     ...          ...       ...      ...   \n",
       "319790             0         Yes    Male        60-64  Hispanic      Yes   \n",
       "319791             0          No    Male        35-39  Hispanic       No   \n",
       "319792             0          No  Female        45-49  Hispanic       No   \n",
       "319793             0          No  Female        25-29  Hispanic       No   \n",
       "319794             0          No  Female  80 or older  Hispanic       No   \n",
       "\n",
       "       PhysicalActivity  GenHealth  SleepTime Asthma KidneyDisease SkinCancer  \n",
       "0                   Yes  Very good          5    Yes            No        Yes  \n",
       "1                   Yes  Very good          7     No            No         No  \n",
       "2                   Yes       Fair          8    Yes            No         No  \n",
       "3                    No       Good          6     No            No        Yes  \n",
       "4                   Yes  Very good          8     No            No         No  \n",
       "...                 ...        ...        ...    ...           ...        ...  \n",
       "319790               No       Fair          6    Yes            No         No  \n",
       "319791              Yes  Very good          5    Yes            No         No  \n",
       "319792              Yes       Good          6     No            No         No  \n",
       "319793               No       Good         12     No            No         No  \n",
       "319794              Yes       Good          8     No            No         No  \n",
       "\n",
       "[319795 rows x 18 columns]"
      ]
     },
     "execution_count": 2,
     "metadata": {},
     "output_type": "execute_result"
    }
   ],
   "source": [
    "data=pd.read_csv(\"heart_desease.csv\")\n",
    "data"
   ]
  },
  {
   "cell_type": "code",
   "execution_count": 3,
   "id": "5871d840",
   "metadata": {},
   "outputs": [
    {
     "data": {
      "text/plain": [
       "HeartDisease        0\n",
       "BMI                 0\n",
       "Smoking             0\n",
       "AlcoholDrinking     0\n",
       "Stroke              0\n",
       "PhysicalHealth      0\n",
       "MentalHealth        0\n",
       "DiffWalking         0\n",
       "Sex                 0\n",
       "AgeCategory         0\n",
       "Race                0\n",
       "Diabetic            0\n",
       "PhysicalActivity    0\n",
       "GenHealth           0\n",
       "SleepTime           0\n",
       "Asthma              0\n",
       "KidneyDisease       0\n",
       "SkinCancer          0\n",
       "dtype: int64"
      ]
     },
     "execution_count": 3,
     "metadata": {},
     "output_type": "execute_result"
    }
   ],
   "source": [
    "data.isnull().sum()"
   ]
  },
  {
   "cell_type": "code",
   "execution_count": 4,
   "id": "5c7943bd",
   "metadata": {},
   "outputs": [
    {
     "name": "stdout",
     "output_type": "stream",
     "text": [
      "<class 'pandas.core.frame.DataFrame'>\n",
      "RangeIndex: 319795 entries, 0 to 319794\n",
      "Data columns (total 18 columns):\n",
      " #   Column            Non-Null Count   Dtype  \n",
      "---  ------            --------------   -----  \n",
      " 0   HeartDisease      319795 non-null  object \n",
      " 1   BMI               319795 non-null  float64\n",
      " 2   Smoking           319795 non-null  object \n",
      " 3   AlcoholDrinking   319795 non-null  object \n",
      " 4   Stroke            319795 non-null  object \n",
      " 5   PhysicalHealth    319795 non-null  int64  \n",
      " 6   MentalHealth      319795 non-null  int64  \n",
      " 7   DiffWalking       319795 non-null  object \n",
      " 8   Sex               319795 non-null  object \n",
      " 9   AgeCategory       319795 non-null  object \n",
      " 10  Race              319795 non-null  object \n",
      " 11  Diabetic          319795 non-null  object \n",
      " 12  PhysicalActivity  319795 non-null  object \n",
      " 13  GenHealth         319795 non-null  object \n",
      " 14  SleepTime         319795 non-null  int64  \n",
      " 15  Asthma            319795 non-null  object \n",
      " 16  KidneyDisease     319795 non-null  object \n",
      " 17  SkinCancer        319795 non-null  object \n",
      "dtypes: float64(1), int64(3), object(14)\n",
      "memory usage: 43.9+ MB\n"
     ]
    }
   ],
   "source": [
    "data.info()"
   ]
  },
  {
   "cell_type": "code",
   "execution_count": 5,
   "id": "495b6c78",
   "metadata": {},
   "outputs": [
    {
     "data": {
      "text/plain": [
       "(319795, 18)"
      ]
     },
     "execution_count": 5,
     "metadata": {},
     "output_type": "execute_result"
    }
   ],
   "source": [
    "data.shape"
   ]
  },
  {
   "cell_type": "code",
   "execution_count": 6,
   "id": "b9956b90",
   "metadata": {},
   "outputs": [
    {
     "data": {
      "text/plain": [
       "Index(['HeartDisease', 'BMI', 'Smoking', 'AlcoholDrinking', 'Stroke',\n",
       "       'PhysicalHealth', 'MentalHealth', 'DiffWalking', 'Sex', 'AgeCategory',\n",
       "       'Race', 'Diabetic', 'PhysicalActivity', 'GenHealth', 'SleepTime',\n",
       "       'Asthma', 'KidneyDisease', 'SkinCancer'],\n",
       "      dtype='object')"
      ]
     },
     "execution_count": 6,
     "metadata": {},
     "output_type": "execute_result"
    }
   ],
   "source": [
    "data.columns"
   ]
  },
  {
   "cell_type": "code",
   "execution_count": 9,
   "id": "2b902c63",
   "metadata": {},
   "outputs": [
    {
     "data": {
      "image/png": "[encoded data removed]",
      "text/plain": [
       "<Figure size 1080x576 with 1 Axes>"
      ]
     },
     "metadata": {
      "needs_background": "light"
     },
     "output_type": "display_data"
    },
    {
     "data": {
      "image/png": "[encoded data removed]",
      "text/plain": [
       "<Figure size 1080x576 with 1 Axes>"
      ]
     },
     "metadata": {
      "needs_background": "light"
     },
     "output_type": "display_data"
    },
    {
     "data": {
      "image/png": "[encoded data removed]",
      "text/plain": [
       "<Figure size 1080x576 with 1 Axes>"
      ]
     },
     "metadata": {
      "needs_background": "light"
     },
     "output_type": "display_data"
    },
    {
     "data": {
      "image/png": "[encoded data removed]",
      "text/plain": [
       "<Figure size 1080x576 with 1 Axes>"
      ]
     },
     "metadata": {
      "needs_background": "light"
     },
     "output_type": "display_data"
    },
    {
     "data": {
      "image/png": "[encoded data removed]",
      "text/plain": [
       "<Figure size 1080x576 with 1 Axes>"
      ]
     },
     "metadata": {
      "needs_background": "light"
     },
     "output_type": "display_data"
    },
    {
     "data": {
      "image/png": "[encoded data removed]",
      "text/plain": [
       "<Figure size 1080x576 with 1 Axes>"
      ]
     },
     "metadata": {
      "needs_background": "light"
     },
     "output_type": "display_data"
    },
    {
     "data": {
      "image/png": "[encoded data removed]",
      "text/plain": [
       "<Figure size 1080x576 with 1 Axes>"
      ]
     },
     "metadata": {
      "needs_background": "light"
     },
     "output_type": "display_data"
    },
    {
     "data": {
      "image/png": "[encoded data removed]",
      "text/plain": [
       "<Figure size 1080x576 with 1 Axes>"
      ]
     },
     "metadata": {
      "needs_background": "light"
     },
     "output_type": "display_data"
    },
    {
     "data": {
      "image/png": "[encoded data removed]",
      "text/plain": [
       "<Figure size 1080x576 with 1 Axes>"
      ]
     },
     "metadata": {
      "needs_background": "light"
     },
     "output_type": "display_data"
    },
    {
     "data": {
      "image/png": "[encoded data removed]",
      "text/plain": [
       "<Figure size 1080x576 with 1 Axes>"
      ]
     },
     "metadata": {
      "needs_background": "light"
     },
     "output_type": "display_data"
    },
    {
     "data": {
      "image/png": "[encoded data removed]",
      "text/plain": [
       "<Figure size 1080x576 with 1 Axes>"
      ]
     },
     "metadata": {
      "needs_background": "light"
     },
     "output_type": "display_data"
    },
    {
     "data": {
      "image/png": "[encoded data removed]",
      "text/plain": [
       "<Figure size 1080x576 with 1 Axes>"
      ]
     },
     "metadata": {
      "needs_background": "light"
     },
     "output_type": "display_data"
    },
    {
     "data": {
      "image/png": "[encoded data removed]",
      "text/plain": [
       "<Figure size 1080x576 with 1 Axes>"
      ]
     },
     "metadata": {
      "needs_background": "light"
     },
     "output_type": "display_data"
    },
    {
     "data": {
      "image/png": "[encoded data removed]",
      "text/plain": [
       "<Figure size 1080x576 with 1 Axes>"
      ]
     },
     "metadata": {
      "needs_background": "light"
     },
     "output_type": "display_data"
    }
   ],
   "source": [
    "for column in data.columns:\n",
    "    if data[column].dtype == 'O':\n",
    "        plt.figure(figsize=(15,8))\n",
    "        sns.countplot(column,hue='HeartDisease',data=data)\n",
    "        plt.xticks(rotation=0)\n",
    "        plt.show()"
   ]
  },
  {
   "cell_type": "code",
   "execution_count": 13,
   "id": "06eb0f6b",
   "metadata": {},
   "outputs": [
    {
     "data": {
      "image/png": "[encoded data removed]",
      "text/plain": [
       "<Figure size 432x288 with 1 Axes>"
      ]
     },
     "metadata": {
      "needs_background": "light"
     },
     "output_type": "display_data"
    },
    {
     "data": {
      "image/png": "[encoded data removed]",
      "text/plain": [
       "<Figure size 432x288 with 1 Axes>"
      ]
     },
     "metadata": {
      "needs_background": "light"
     },
     "output_type": "display_data"
    },
    {
     "data": {
      "image/png": "[encoded data removed]",
      "text/plain": [
       "<Figure size 432x288 with 1 Axes>"
      ]
     },
     "metadata": {
      "needs_background": "light"
     },
     "output_type": "display_data"
    },
    {
     "data": {
      "image/png": "[encoded data removed]",
      "text/plain": [
       "<Figure size 432x288 with 1 Axes>"
      ]
     },
     "metadata": {
      "needs_background": "light"
     },
     "output_type": "display_data"
    }
   ],
   "source": [
    "data_num=data[['BMI','PhysicalHealth','MentalHealth','SleepTime']]\n",
    "for column in data_num.columns:\n",
    "        sns.boxplot(x=data_num[column])\n",
    "        plt.show()\n",
    "plt.show()"
   ]
  },
  {
   "cell_type": "code",
   "execution_count": 17,
   "id": "1d19e44a",
   "metadata": {},
   "outputs": [],
   "source": [
    "def countplot(column,hue,data):\n",
    "    plt.figure(figsize=(15,8))\n",
    "    sns.countplot(x=column,hue=hue,data=data)\n",
    "    plt.xticks()\n",
    "    plt.show"
   ]
  },
  {
   "cell_type": "code",
   "execution_count": 18,
   "id": "d2e63b31",
   "metadata": {},
   "outputs": [
    {
     "data": {
      "image/png": "[encoded data removed]",
      "text/plain": [
       "<Figure size 1080x576 with 1 Axes>"
      ]
     },
     "metadata": {
      "needs_background": "light"
     },
     "output_type": "display_data"
    }
   ],
   "source": [
    "countplot('PhysicalHealth','Sex',data)"
   ]
  },
  {
   "cell_type": "code",
   "execution_count": 19,
   "id": "b2910e8f",
   "metadata": {},
   "outputs": [
    {
     "data": {
      "image/png": "[encoded data removed]",
      "text/plain": [
       "<Figure size 1080x576 with 1 Axes>"
      ]
     },
     "metadata": {
      "needs_background": "light"
     },
     "output_type": "display_data"
    }
   ],
   "source": [
    "countplot('GenHealth','HeartDisease',data)"
   ]
  },
  {
   "cell_type": "code",
   "execution_count": 23,
   "id": "9a869d6e",
   "metadata": {},
   "outputs": [
    {
     "data": {
      "image/png": "[encoded data removed]",
      "text/plain": [
       "<Figure size 1080x576 with 1 Axes>"
      ]
     },
     "metadata": {
      "needs_background": "light"
     },
     "output_type": "display_data"
    }
   ],
   "source": [
    "plt.figure(figsize=(15,8))\n",
    "sns.countplot('Race',data=data)\n",
    "plt.show()"
   ]
  },
  {
   "cell_type": "code",
   "execution_count": 25,
   "id": "439280a2",
   "metadata": {},
   "outputs": [],
   "source": [
    "from sklearn.preprocessing import LabelEncoder"
   ]
  },
  {
   "cell_type": "code",
   "execution_count": 26,
   "id": "94772091",
   "metadata": {},
   "outputs": [],
   "source": [
    "for column in data.columns:\n",
    "    if data[column].dtype==\"O\":\n",
    "        le=LabelEncoder()\n",
    "        label=le.fit_transform(data[column])\n",
    "        data[column]=label"
   ]
  },
  {
   "cell_type": "code",
   "execution_count": 27,
   "id": "b41af73d",
   "metadata": {},
   "outputs": [
    {
     "data": {
      "text/html": [
       "<div>\n",
       "<style scoped>\n",
       "    .dataframe tbody tr th:only-of-type {\n",
       "        vertical-align: middle;\n",
       "    }\n",
       "\n",
       "    .dataframe tbody tr th {\n",
       "        vertical-align: top;\n",
       "    }\n",
       "\n",
       "    .dataframe thead th {\n",
       "        text-align: right;\n",
       "    }\n",
       "</style>\n",
       "<table border=\"1\" class=\"dataframe\">\n",
       "  <thead>\n",
       "    <tr style=\"text-align: right;\">\n",
       "      <th></th>\n",
       "      <th>HeartDisease</th>\n",
       "      <th>BMI</th>\n",
       "      <th>Smoking</th>\n",
       "      <th>AlcoholDrinking</th>\n",
       "      <th>Stroke</th>\n",
       "      <th>PhysicalHealth</th>\n",
       "      <th>MentalHealth</th>\n",
       "      <th>DiffWalking</th>\n",
       "      <th>Sex</th>\n",
       "      <th>AgeCategory</th>\n",
       "      <th>Race</th>\n",
       "      <th>Diabetic</th>\n",
       "      <th>PhysicalActivity</th>\n",
       "      <th>GenHealth</th>\n",
       "      <th>SleepTime</th>\n",
       "      <th>Asthma</th>\n",
       "      <th>KidneyDisease</th>\n",
       "      <th>SkinCancer</th>\n",
       "    </tr>\n",
       "  </thead>\n",
       "  <tbody>\n",
       "    <tr>\n",
       "      <th>0</th>\n",
       "      <td>0</td>\n",
       "      <td>16.60</td>\n",
       "      <td>1</td>\n",
       "      <td>0</td>\n",
       "      <td>0</td>\n",
       "      <td>3</td>\n",
       "      <td>30</td>\n",
       "      <td>0</td>\n",
       "      <td>0</td>\n",
       "      <td>7</td>\n",
       "      <td>5</td>\n",
       "      <td>2</td>\n",
       "      <td>1</td>\n",
       "      <td>4</td>\n",
       "      <td>5</td>\n",
       "      <td>1</td>\n",
       "      <td>0</td>\n",
       "      <td>1</td>\n",
       "    </tr>\n",
       "    <tr>\n",
       "      <th>1</th>\n",
       "      <td>0</td>\n",
       "      <td>20.34</td>\n",
       "      <td>0</td>\n",
       "      <td>0</td>\n",
       "      <td>1</td>\n",
       "      <td>0</td>\n",
       "      <td>0</td>\n",
       "      <td>0</td>\n",
       "      <td>0</td>\n",
       "      <td>12</td>\n",
       "      <td>5</td>\n",
       "      <td>0</td>\n",
       "      <td>1</td>\n",
       "      <td>4</td>\n",
       "      <td>7</td>\n",
       "      <td>0</td>\n",
       "      <td>0</td>\n",
       "      <td>0</td>\n",
       "    </tr>\n",
       "    <tr>\n",
       "      <th>2</th>\n",
       "      <td>0</td>\n",
       "      <td>26.58</td>\n",
       "      <td>1</td>\n",
       "      <td>0</td>\n",
       "      <td>0</td>\n",
       "      <td>20</td>\n",
       "      <td>30</td>\n",
       "      <td>0</td>\n",
       "      <td>1</td>\n",
       "      <td>9</td>\n",
       "      <td>5</td>\n",
       "      <td>2</td>\n",
       "      <td>1</td>\n",
       "      <td>1</td>\n",
       "      <td>8</td>\n",
       "      <td>1</td>\n",
       "      <td>0</td>\n",
       "      <td>0</td>\n",
       "    </tr>\n",
       "    <tr>\n",
       "      <th>3</th>\n",
       "      <td>0</td>\n",
       "      <td>24.21</td>\n",
       "      <td>0</td>\n",
       "      <td>0</td>\n",
       "      <td>0</td>\n",
       "      <td>0</td>\n",
       "      <td>0</td>\n",
       "      <td>0</td>\n",
       "      <td>0</td>\n",
       "      <td>11</td>\n",
       "      <td>5</td>\n",
       "      <td>0</td>\n",
       "      <td>0</td>\n",
       "      <td>2</td>\n",
       "      <td>6</td>\n",
       "      <td>0</td>\n",
       "      <td>0</td>\n",
       "      <td>1</td>\n",
       "    </tr>\n",
       "    <tr>\n",
       "      <th>4</th>\n",
       "      <td>0</td>\n",
       "      <td>23.71</td>\n",
       "      <td>0</td>\n",
       "      <td>0</td>\n",
       "      <td>0</td>\n",
       "      <td>28</td>\n",
       "      <td>0</td>\n",
       "      <td>1</td>\n",
       "      <td>0</td>\n",
       "      <td>4</td>\n",
       "      <td>5</td>\n",
       "      <td>0</td>\n",
       "      <td>1</td>\n",
       "      <td>4</td>\n",
       "      <td>8</td>\n",
       "      <td>0</td>\n",
       "      <td>0</td>\n",
       "      <td>0</td>\n",
       "    </tr>\n",
       "  </tbody>\n",
       "</table>\n",
       "</div>"
      ],
      "text/plain": [
       "   HeartDisease    BMI  Smoking  AlcoholDrinking  Stroke  PhysicalHealth  \\\n",
       "0             0  16.60        1                0       0               3   \n",
       "1             0  20.34        0                0       1               0   \n",
       "2             0  26.58        1                0       0              20   \n",
       "3             0  24.21        0                0       0               0   \n",
       "4             0  23.71        0                0       0              28   \n",
       "\n",
       "   MentalHealth  DiffWalking  Sex  AgeCategory  Race  Diabetic  \\\n",
       "0            30            0    0            7     5         2   \n",
       "1             0            0    0           12     5         0   \n",
       "2            30            0    1            9     5         2   \n",
       "3             0            0    0           11     5         0   \n",
       "4             0            1    0            4     5         0   \n",
       "\n",
       "   PhysicalActivity  GenHealth  SleepTime  Asthma  KidneyDisease  SkinCancer  \n",
       "0                 1          4          5       1              0           1  \n",
       "1                 1          4          7       0              0           0  \n",
       "2                 1          1          8       1              0           0  \n",
       "3                 0          2          6       0              0           1  \n",
       "4                 1          4          8       0              0           0  "
      ]
     },
     "execution_count": 27,
     "metadata": {},
     "output_type": "execute_result"
    }
   ],
   "source": [
    "data.head()"
   ]
  },
  {
   "cell_type": "code",
   "execution_count": 28,
   "id": "6c694e97",
   "metadata": {},
   "outputs": [
    {
     "name": "stdout",
     "output_type": "stream",
     "text": [
      "<class 'pandas.core.frame.DataFrame'>\n",
      "RangeIndex: 319795 entries, 0 to 319794\n",
      "Data columns (total 18 columns):\n",
      " #   Column            Non-Null Count   Dtype  \n",
      "---  ------            --------------   -----  \n",
      " 0   HeartDisease      319795 non-null  int32  \n",
      " 1   BMI               319795 non-null  float64\n",
      " 2   Smoking           319795 non-null  int32  \n",
      " 3   AlcoholDrinking   319795 non-null  int32  \n",
      " 4   Stroke            319795 non-null  int32  \n",
      " 5   PhysicalHealth    319795 non-null  int64  \n",
      " 6   MentalHealth      319795 non-null  int64  \n",
      " 7   DiffWalking       319795 non-null  int32  \n",
      " 8   Sex               319795 non-null  int32  \n",
      " 9   AgeCategory       319795 non-null  int32  \n",
      " 10  Race              319795 non-null  int32  \n",
      " 11  Diabetic          319795 non-null  int32  \n",
      " 12  PhysicalActivity  319795 non-null  int32  \n",
      " 13  GenHealth         319795 non-null  int32  \n",
      " 14  SleepTime         319795 non-null  int64  \n",
      " 15  Asthma            319795 non-null  int32  \n",
      " 16  KidneyDisease     319795 non-null  int32  \n",
      " 17  SkinCancer        319795 non-null  int32  \n",
      "dtypes: float64(1), int32(14), int64(3)\n",
      "memory usage: 26.8 MB\n"
     ]
    }
   ],
   "source": [
    "data.info()"
   ]
  },
  {
   "cell_type": "code",
   "execution_count": 29,
   "id": "e43fd859",
   "metadata": {},
   "outputs": [
    {
     "data": {
      "text/html": [
       "<div>\n",
       "<style scoped>\n",
       "    .dataframe tbody tr th:only-of-type {\n",
       "        vertical-align: middle;\n",
       "    }\n",
       "\n",
       "    .dataframe tbody tr th {\n",
       "        vertical-align: top;\n",
       "    }\n",
       "\n",
       "    .dataframe thead th {\n",
       "        text-align: right;\n",
       "    }\n",
       "</style>\n",
       "<table border=\"1\" class=\"dataframe\">\n",
       "  <thead>\n",
       "    <tr style=\"text-align: right;\">\n",
       "      <th></th>\n",
       "      <th>HeartDisease</th>\n",
       "      <th>BMI</th>\n",
       "      <th>Smoking</th>\n",
       "      <th>AlcoholDrinking</th>\n",
       "      <th>Stroke</th>\n",
       "      <th>PhysicalHealth</th>\n",
       "      <th>MentalHealth</th>\n",
       "      <th>DiffWalking</th>\n",
       "      <th>Sex</th>\n",
       "      <th>AgeCategory</th>\n",
       "      <th>Race</th>\n",
       "      <th>Diabetic</th>\n",
       "      <th>PhysicalActivity</th>\n",
       "      <th>GenHealth</th>\n",
       "      <th>SleepTime</th>\n",
       "      <th>Asthma</th>\n",
       "      <th>KidneyDisease</th>\n",
       "      <th>SkinCancer</th>\n",
       "    </tr>\n",
       "  </thead>\n",
       "  <tbody>\n",
       "    <tr>\n",
       "      <th>HeartDisease</th>\n",
       "      <td>1.000000</td>\n",
       "      <td>0.051803</td>\n",
       "      <td>0.107764</td>\n",
       "      <td>-0.032080</td>\n",
       "      <td>0.196835</td>\n",
       "      <td>0.170721</td>\n",
       "      <td>0.028591</td>\n",
       "      <td>0.201258</td>\n",
       "      <td>0.070040</td>\n",
       "      <td>0.233432</td>\n",
       "      <td>0.034854</td>\n",
       "      <td>0.168553</td>\n",
       "      <td>-0.100030</td>\n",
       "      <td>-0.011062</td>\n",
       "      <td>0.008327</td>\n",
       "      <td>0.041444</td>\n",
       "      <td>0.145197</td>\n",
       "      <td>0.093317</td>\n",
       "    </tr>\n",
       "    <tr>\n",
       "      <th>BMI</th>\n",
       "      <td>0.051803</td>\n",
       "      <td>1.000000</td>\n",
       "      <td>0.023118</td>\n",
       "      <td>-0.038816</td>\n",
       "      <td>0.019733</td>\n",
       "      <td>0.109788</td>\n",
       "      <td>0.064131</td>\n",
       "      <td>0.181678</td>\n",
       "      <td>0.026940</td>\n",
       "      <td>-0.004744</td>\n",
       "      <td>-0.037424</td>\n",
       "      <td>0.202472</td>\n",
       "      <td>-0.150616</td>\n",
       "      <td>0.035932</td>\n",
       "      <td>-0.051822</td>\n",
       "      <td>0.092345</td>\n",
       "      <td>0.050768</td>\n",
       "      <td>-0.033644</td>\n",
       "    </tr>\n",
       "    <tr>\n",
       "      <th>Smoking</th>\n",
       "      <td>0.107764</td>\n",
       "      <td>0.023118</td>\n",
       "      <td>1.000000</td>\n",
       "      <td>0.111768</td>\n",
       "      <td>0.061226</td>\n",
       "      <td>0.115352</td>\n",
       "      <td>0.085157</td>\n",
       "      <td>0.120074</td>\n",
       "      <td>0.085052</td>\n",
       "      <td>0.128331</td>\n",
       "      <td>0.065499</td>\n",
       "      <td>0.053847</td>\n",
       "      <td>-0.097174</td>\n",
       "      <td>0.020625</td>\n",
       "      <td>-0.030336</td>\n",
       "      <td>0.024149</td>\n",
       "      <td>0.034920</td>\n",
       "      <td>0.033977</td>\n",
       "    </tr>\n",
       "    <tr>\n",
       "      <th>AlcoholDrinking</th>\n",
       "      <td>-0.032080</td>\n",
       "      <td>-0.038816</td>\n",
       "      <td>0.111768</td>\n",
       "      <td>1.000000</td>\n",
       "      <td>-0.019858</td>\n",
       "      <td>-0.017254</td>\n",
       "      <td>0.051282</td>\n",
       "      <td>-0.035328</td>\n",
       "      <td>0.004200</td>\n",
       "      <td>-0.059528</td>\n",
       "      <td>0.036702</td>\n",
       "      <td>-0.057372</td>\n",
       "      <td>0.017487</td>\n",
       "      <td>0.001629</td>\n",
       "      <td>-0.005065</td>\n",
       "      <td>-0.002202</td>\n",
       "      <td>-0.028280</td>\n",
       "      <td>-0.005702</td>\n",
       "    </tr>\n",
       "    <tr>\n",
       "      <th>Stroke</th>\n",
       "      <td>0.196835</td>\n",
       "      <td>0.019733</td>\n",
       "      <td>0.061226</td>\n",
       "      <td>-0.019858</td>\n",
       "      <td>1.000000</td>\n",
       "      <td>0.137014</td>\n",
       "      <td>0.046467</td>\n",
       "      <td>0.174143</td>\n",
       "      <td>-0.003091</td>\n",
       "      <td>0.137822</td>\n",
       "      <td>-0.003956</td>\n",
       "      <td>0.101518</td>\n",
       "      <td>-0.079455</td>\n",
       "      <td>-0.009335</td>\n",
       "      <td>0.011900</td>\n",
       "      <td>0.038866</td>\n",
       "      <td>0.091167</td>\n",
       "      <td>0.048116</td>\n",
       "    </tr>\n",
       "    <tr>\n",
       "      <th>PhysicalHealth</th>\n",
       "      <td>0.170721</td>\n",
       "      <td>0.109788</td>\n",
       "      <td>0.115352</td>\n",
       "      <td>-0.017254</td>\n",
       "      <td>0.137014</td>\n",
       "      <td>1.000000</td>\n",
       "      <td>0.287987</td>\n",
       "      <td>0.428373</td>\n",
       "      <td>-0.040904</td>\n",
       "      <td>0.110763</td>\n",
       "      <td>-0.000847</td>\n",
       "      <td>0.151361</td>\n",
       "      <td>-0.232283</td>\n",
       "      <td>-0.035703</td>\n",
       "      <td>-0.061387</td>\n",
       "      <td>0.117907</td>\n",
       "      <td>0.142197</td>\n",
       "      <td>0.041700</td>\n",
       "    </tr>\n",
       "    <tr>\n",
       "      <th>MentalHealth</th>\n",
       "      <td>0.028591</td>\n",
       "      <td>0.064131</td>\n",
       "      <td>0.085157</td>\n",
       "      <td>0.051282</td>\n",
       "      <td>0.046467</td>\n",
       "      <td>0.287987</td>\n",
       "      <td>1.000000</td>\n",
       "      <td>0.152235</td>\n",
       "      <td>-0.100058</td>\n",
       "      <td>-0.155506</td>\n",
       "      <td>-0.014491</td>\n",
       "      <td>0.032945</td>\n",
       "      <td>-0.095808</td>\n",
       "      <td>-0.004412</td>\n",
       "      <td>-0.119717</td>\n",
       "      <td>0.114008</td>\n",
       "      <td>0.037281</td>\n",
       "      <td>-0.033412</td>\n",
       "    </tr>\n",
       "    <tr>\n",
       "      <th>DiffWalking</th>\n",
       "      <td>0.201258</td>\n",
       "      <td>0.181678</td>\n",
       "      <td>0.120074</td>\n",
       "      <td>-0.035328</td>\n",
       "      <td>0.174143</td>\n",
       "      <td>0.428373</td>\n",
       "      <td>0.152235</td>\n",
       "      <td>1.000000</td>\n",
       "      <td>-0.068860</td>\n",
       "      <td>0.243263</td>\n",
       "      <td>-0.015831</td>\n",
       "      <td>0.205502</td>\n",
       "      <td>-0.278524</td>\n",
       "      <td>-0.043552</td>\n",
       "      <td>-0.022216</td>\n",
       "      <td>0.103222</td>\n",
       "      <td>0.153064</td>\n",
       "      <td>0.064840</td>\n",
       "    </tr>\n",
       "    <tr>\n",
       "      <th>Sex</th>\n",
       "      <td>0.070040</td>\n",
       "      <td>0.026940</td>\n",
       "      <td>0.085052</td>\n",
       "      <td>0.004200</td>\n",
       "      <td>-0.003091</td>\n",
       "      <td>-0.040904</td>\n",
       "      <td>-0.100058</td>\n",
       "      <td>-0.068860</td>\n",
       "      <td>1.000000</td>\n",
       "      <td>-0.067478</td>\n",
       "      <td>0.018855</td>\n",
       "      <td>-0.013456</td>\n",
       "      <td>0.048247</td>\n",
       "      <td>-0.010283</td>\n",
       "      <td>-0.015704</td>\n",
       "      <td>-0.069191</td>\n",
       "      <td>-0.009084</td>\n",
       "      <td>0.013434</td>\n",
       "    </tr>\n",
       "    <tr>\n",
       "      <th>AgeCategory</th>\n",
       "      <td>0.233432</td>\n",
       "      <td>-0.004744</td>\n",
       "      <td>0.128331</td>\n",
       "      <td>-0.059528</td>\n",
       "      <td>0.137822</td>\n",
       "      <td>0.110763</td>\n",
       "      <td>-0.155506</td>\n",
       "      <td>0.243263</td>\n",
       "      <td>-0.067478</td>\n",
       "      <td>1.000000</td>\n",
       "      <td>0.163090</td>\n",
       "      <td>0.193745</td>\n",
       "      <td>-0.121687</td>\n",
       "      <td>0.044427</td>\n",
       "      <td>0.104953</td>\n",
       "      <td>-0.058108</td>\n",
       "      <td>0.123190</td>\n",
       "      <td>0.263537</td>\n",
       "    </tr>\n",
       "    <tr>\n",
       "      <th>Race</th>\n",
       "      <td>0.034854</td>\n",
       "      <td>-0.037424</td>\n",
       "      <td>0.065499</td>\n",
       "      <td>0.036702</td>\n",
       "      <td>-0.003956</td>\n",
       "      <td>-0.000847</td>\n",
       "      <td>-0.014491</td>\n",
       "      <td>-0.015831</td>\n",
       "      <td>0.018855</td>\n",
       "      <td>0.163090</td>\n",
       "      <td>1.000000</td>\n",
       "      <td>-0.052216</td>\n",
       "      <td>0.056767</td>\n",
       "      <td>0.050344</td>\n",
       "      <td>0.035889</td>\n",
       "      <td>-0.017975</td>\n",
       "      <td>0.003709</td>\n",
       "      <td>0.134780</td>\n",
       "    </tr>\n",
       "    <tr>\n",
       "      <th>Diabetic</th>\n",
       "      <td>0.168553</td>\n",
       "      <td>0.202472</td>\n",
       "      <td>0.053847</td>\n",
       "      <td>-0.057372</td>\n",
       "      <td>0.101518</td>\n",
       "      <td>0.151361</td>\n",
       "      <td>0.032945</td>\n",
       "      <td>0.205502</td>\n",
       "      <td>-0.013456</td>\n",
       "      <td>0.193745</td>\n",
       "      <td>-0.052216</td>\n",
       "      <td>1.000000</td>\n",
       "      <td>-0.133824</td>\n",
       "      <td>-0.010854</td>\n",
       "      <td>0.000449</td>\n",
       "      <td>0.049827</td>\n",
       "      <td>0.142917</td>\n",
       "      <td>0.032523</td>\n",
       "    </tr>\n",
       "    <tr>\n",
       "      <th>PhysicalActivity</th>\n",
       "      <td>-0.100030</td>\n",
       "      <td>-0.150616</td>\n",
       "      <td>-0.097174</td>\n",
       "      <td>0.017487</td>\n",
       "      <td>-0.079455</td>\n",
       "      <td>-0.232283</td>\n",
       "      <td>-0.095808</td>\n",
       "      <td>-0.278524</td>\n",
       "      <td>0.048247</td>\n",
       "      <td>-0.121687</td>\n",
       "      <td>0.056767</td>\n",
       "      <td>-0.133824</td>\n",
       "      <td>1.000000</td>\n",
       "      <td>0.024418</td>\n",
       "      <td>0.003849</td>\n",
       "      <td>-0.041526</td>\n",
       "      <td>-0.081827</td>\n",
       "      <td>-0.001328</td>\n",
       "    </tr>\n",
       "    <tr>\n",
       "      <th>GenHealth</th>\n",
       "      <td>-0.011062</td>\n",
       "      <td>0.035932</td>\n",
       "      <td>0.020625</td>\n",
       "      <td>0.001629</td>\n",
       "      <td>-0.009335</td>\n",
       "      <td>-0.035703</td>\n",
       "      <td>-0.004412</td>\n",
       "      <td>-0.043552</td>\n",
       "      <td>-0.010283</td>\n",
       "      <td>0.044427</td>\n",
       "      <td>0.050344</td>\n",
       "      <td>-0.010854</td>\n",
       "      <td>0.024418</td>\n",
       "      <td>1.000000</td>\n",
       "      <td>-0.004163</td>\n",
       "      <td>0.007280</td>\n",
       "      <td>-0.010580</td>\n",
       "      <td>0.018982</td>\n",
       "    </tr>\n",
       "    <tr>\n",
       "      <th>SleepTime</th>\n",
       "      <td>0.008327</td>\n",
       "      <td>-0.051822</td>\n",
       "      <td>-0.030336</td>\n",
       "      <td>-0.005065</td>\n",
       "      <td>0.011900</td>\n",
       "      <td>-0.061387</td>\n",
       "      <td>-0.119717</td>\n",
       "      <td>-0.022216</td>\n",
       "      <td>-0.015704</td>\n",
       "      <td>0.104953</td>\n",
       "      <td>0.035889</td>\n",
       "      <td>0.000449</td>\n",
       "      <td>0.003849</td>\n",
       "      <td>-0.004163</td>\n",
       "      <td>1.000000</td>\n",
       "      <td>-0.048245</td>\n",
       "      <td>0.006238</td>\n",
       "      <td>0.041266</td>\n",
       "    </tr>\n",
       "    <tr>\n",
       "      <th>Asthma</th>\n",
       "      <td>0.041444</td>\n",
       "      <td>0.092345</td>\n",
       "      <td>0.024149</td>\n",
       "      <td>-0.002202</td>\n",
       "      <td>0.038866</td>\n",
       "      <td>0.117907</td>\n",
       "      <td>0.114008</td>\n",
       "      <td>0.103222</td>\n",
       "      <td>-0.069191</td>\n",
       "      <td>-0.058108</td>\n",
       "      <td>-0.017975</td>\n",
       "      <td>0.049827</td>\n",
       "      <td>-0.041526</td>\n",
       "      <td>0.007280</td>\n",
       "      <td>-0.048245</td>\n",
       "      <td>1.000000</td>\n",
       "      <td>0.039707</td>\n",
       "      <td>-0.000396</td>\n",
       "    </tr>\n",
       "    <tr>\n",
       "      <th>KidneyDisease</th>\n",
       "      <td>0.145197</td>\n",
       "      <td>0.050768</td>\n",
       "      <td>0.034920</td>\n",
       "      <td>-0.028280</td>\n",
       "      <td>0.091167</td>\n",
       "      <td>0.142197</td>\n",
       "      <td>0.037281</td>\n",
       "      <td>0.153064</td>\n",
       "      <td>-0.009084</td>\n",
       "      <td>0.123190</td>\n",
       "      <td>0.003709</td>\n",
       "      <td>0.142917</td>\n",
       "      <td>-0.081827</td>\n",
       "      <td>-0.010580</td>\n",
       "      <td>0.006238</td>\n",
       "      <td>0.039707</td>\n",
       "      <td>1.000000</td>\n",
       "      <td>0.061816</td>\n",
       "    </tr>\n",
       "    <tr>\n",
       "      <th>SkinCancer</th>\n",
       "      <td>0.093317</td>\n",
       "      <td>-0.033644</td>\n",
       "      <td>0.033977</td>\n",
       "      <td>-0.005702</td>\n",
       "      <td>0.048116</td>\n",
       "      <td>0.041700</td>\n",
       "      <td>-0.033412</td>\n",
       "      <td>0.064840</td>\n",
       "      <td>0.013434</td>\n",
       "      <td>0.263537</td>\n",
       "      <td>0.134780</td>\n",
       "      <td>0.032523</td>\n",
       "      <td>-0.001328</td>\n",
       "      <td>0.018982</td>\n",
       "      <td>0.041266</td>\n",
       "      <td>-0.000396</td>\n",
       "      <td>0.061816</td>\n",
       "      <td>1.000000</td>\n",
       "    </tr>\n",
       "  </tbody>\n",
       "</table>\n",
       "</div>"
      ],
      "text/plain": [
       "                  HeartDisease       BMI   Smoking  AlcoholDrinking    Stroke  \\\n",
       "HeartDisease          1.000000  0.051803  0.107764        -0.032080  0.196835   \n",
       "BMI                   0.051803  1.000000  0.023118        -0.038816  0.019733   \n",
       "Smoking               0.107764  0.023118  1.000000         0.111768  0.061226   \n",
       "AlcoholDrinking      -0.032080 -0.038816  0.111768         1.000000 -0.019858   \n",
       "Stroke                0.196835  0.019733  0.061226        -0.019858  1.000000   \n",
       "PhysicalHealth        0.170721  0.109788  0.115352        -0.017254  0.137014   \n",
       "MentalHealth          0.028591  0.064131  0.085157         0.051282  0.046467   \n",
       "DiffWalking           0.201258  0.181678  0.120074        -0.035328  0.174143   \n",
       "Sex                   0.070040  0.026940  0.085052         0.004200 -0.003091   \n",
       "AgeCategory           0.233432 -0.004744  0.128331        -0.059528  0.137822   \n",
       "Race                  0.034854 -0.037424  0.065499         0.036702 -0.003956   \n",
       "Diabetic              0.168553  0.202472  0.053847        -0.057372  0.101518   \n",
       "PhysicalActivity     -0.100030 -0.150616 -0.097174         0.017487 -0.079455   \n",
       "GenHealth            -0.011062  0.035932  0.020625         0.001629 -0.009335   \n",
       "SleepTime             0.008327 -0.051822 -0.030336        -0.005065  0.011900   \n",
       "Asthma                0.041444  0.092345  0.024149        -0.002202  0.038866   \n",
       "KidneyDisease         0.145197  0.050768  0.034920        -0.028280  0.091167   \n",
       "SkinCancer            0.093317 -0.033644  0.033977        -0.005702  0.048116   \n",
       "\n",
       "                  PhysicalHealth  MentalHealth  DiffWalking       Sex  \\\n",
       "HeartDisease            0.170721      0.028591     0.201258  0.070040   \n",
       "BMI                     0.109788      0.064131     0.181678  0.026940   \n",
       "Smoking                 0.115352      0.085157     0.120074  0.085052   \n",
       "AlcoholDrinking        -0.017254      0.051282    -0.035328  0.004200   \n",
       "Stroke                  0.137014      0.046467     0.174143 -0.003091   \n",
       "PhysicalHealth          1.000000      0.287987     0.428373 -0.040904   \n",
       "MentalHealth            0.287987      1.000000     0.152235 -0.100058   \n",
       "DiffWalking             0.428373      0.152235     1.000000 -0.068860   \n",
       "Sex                    -0.040904     -0.100058    -0.068860  1.000000   \n",
       "AgeCategory             0.110763     -0.155506     0.243263 -0.067478   \n",
       "Race                   -0.000847     -0.014491    -0.015831  0.018855   \n",
       "Diabetic                0.151361      0.032945     0.205502 -0.013456   \n",
       "PhysicalActivity       -0.232283     -0.095808    -0.278524  0.048247   \n",
       "GenHealth              -0.035703     -0.004412    -0.043552 -0.010283   \n",
       "SleepTime              -0.061387     -0.119717    -0.022216 -0.015704   \n",
       "Asthma                  0.117907      0.114008     0.103222 -0.069191   \n",
       "KidneyDisease           0.142197      0.037281     0.153064 -0.009084   \n",
       "SkinCancer              0.041700     -0.033412     0.064840  0.013434   \n",
       "\n",
       "                  AgeCategory      Race  Diabetic  PhysicalActivity  \\\n",
       "HeartDisease         0.233432  0.034854  0.168553         -0.100030   \n",
       "BMI                 -0.004744 -0.037424  0.202472         -0.150616   \n",
       "Smoking              0.128331  0.065499  0.053847         -0.097174   \n",
       "AlcoholDrinking     -0.059528  0.036702 -0.057372          0.017487   \n",
       "Stroke               0.137822 -0.003956  0.101518         -0.079455   \n",
       "PhysicalHealth       0.110763 -0.000847  0.151361         -0.232283   \n",
       "MentalHealth        -0.155506 -0.014491  0.032945         -0.095808   \n",
       "DiffWalking          0.243263 -0.015831  0.205502         -0.278524   \n",
       "Sex                 -0.067478  0.018855 -0.013456          0.048247   \n",
       "AgeCategory          1.000000  0.163090  0.193745         -0.121687   \n",
       "Race                 0.163090  1.000000 -0.052216          0.056767   \n",
       "Diabetic             0.193745 -0.052216  1.000000         -0.133824   \n",
       "PhysicalActivity    -0.121687  0.056767 -0.133824          1.000000   \n",
       "GenHealth            0.044427  0.050344 -0.010854          0.024418   \n",
       "SleepTime            0.104953  0.035889  0.000449          0.003849   \n",
       "Asthma              -0.058108 -0.017975  0.049827         -0.041526   \n",
       "KidneyDisease        0.123190  0.003709  0.142917         -0.081827   \n",
       "SkinCancer           0.263537  0.134780  0.032523         -0.001328   \n",
       "\n",
       "                  GenHealth  SleepTime    Asthma  KidneyDisease  SkinCancer  \n",
       "HeartDisease      -0.011062   0.008327  0.041444       0.145197    0.093317  \n",
       "BMI                0.035932  -0.051822  0.092345       0.050768   -0.033644  \n",
       "Smoking            0.020625  -0.030336  0.024149       0.034920    0.033977  \n",
       "AlcoholDrinking    0.001629  -0.005065 -0.002202      -0.028280   -0.005702  \n",
       "Stroke            -0.009335   0.011900  0.038866       0.091167    0.048116  \n",
       "PhysicalHealth    -0.035703  -0.061387  0.117907       0.142197    0.041700  \n",
       "MentalHealth      -0.004412  -0.119717  0.114008       0.037281   -0.033412  \n",
       "DiffWalking       -0.043552  -0.022216  0.103222       0.153064    0.064840  \n",
       "Sex               -0.010283  -0.015704 -0.069191      -0.009084    0.013434  \n",
       "AgeCategory        0.044427   0.104953 -0.058108       0.123190    0.263537  \n",
       "Race               0.050344   0.035889 -0.017975       0.003709    0.134780  \n",
       "Diabetic          -0.010854   0.000449  0.049827       0.142917    0.032523  \n",
       "PhysicalActivity   0.024418   0.003849 -0.041526      -0.081827   -0.001328  \n",
       "GenHealth          1.000000  -0.004163  0.007280      -0.010580    0.018982  \n",
       "SleepTime         -0.004163   1.000000 -0.048245       0.006238    0.041266  \n",
       "Asthma             0.007280  -0.048245  1.000000       0.039707   -0.000396  \n",
       "KidneyDisease     -0.010580   0.006238  0.039707       1.000000    0.061816  \n",
       "SkinCancer         0.018982   0.041266 -0.000396       0.061816    1.000000  "
      ]
     },
     "execution_count": 29,
     "metadata": {},
     "output_type": "execute_result"
    }
   ],
   "source": [
    "data.corr()"
   ]
  },
  {
   "cell_type": "code",
   "execution_count": 30,
   "id": "e47b115d",
   "metadata": {},
   "outputs": [
    {
     "data": {
      "text/plain": [
       "<AxesSubplot:>"
      ]
     },
     "execution_count": 30,
     "metadata": {},
     "output_type": "execute_result"
    },
    {
     "data": {
      "image/png": "[encoded data removed]",
      "text/plain": [
       "<Figure size 720x576 with 2 Axes>"
      ]
     },
     "metadata": {
      "needs_background": "light"
     },
     "output_type": "display_data"
    }
   ],
   "source": [
    "plt.figure(figsize=(10,8))\n",
    "sns.heatmap(data.corr())"
   ]
  },
  {
   "cell_type": "code",
   "execution_count": 31,
   "id": "05921d7f",
   "metadata": {},
   "outputs": [],
   "source": [
    "data.drop(['Race','BMI'],axis=1,inplace=True)"
   ]
  },
  {
   "cell_type": "code",
   "execution_count": 32,
   "id": "939f7644",
   "metadata": {},
   "outputs": [
    {
     "data": {
      "text/html": [
       "<div>\n",
       "<style scoped>\n",
       "    .dataframe tbody tr th:only-of-type {\n",
       "        vertical-align: middle;\n",
       "    }\n",
       "\n",
       "    .dataframe tbody tr th {\n",
       "        vertical-align: top;\n",
       "    }\n",
       "\n",
       "    .dataframe thead th {\n",
       "        text-align: right;\n",
       "    }\n",
       "</style>\n",
       "<table border=\"1\" class=\"dataframe\">\n",
       "  <thead>\n",
       "    <tr style=\"text-align: right;\">\n",
       "      <th></th>\n",
       "      <th>HeartDisease</th>\n",
       "      <th>Smoking</th>\n",
       "      <th>AlcoholDrinking</th>\n",
       "      <th>Stroke</th>\n",
       "      <th>PhysicalHealth</th>\n",
       "      <th>MentalHealth</th>\n",
       "      <th>DiffWalking</th>\n",
       "      <th>Sex</th>\n",
       "      <th>AgeCategory</th>\n",
       "      <th>Diabetic</th>\n",
       "      <th>PhysicalActivity</th>\n",
       "      <th>GenHealth</th>\n",
       "      <th>SleepTime</th>\n",
       "      <th>Asthma</th>\n",
       "      <th>KidneyDisease</th>\n",
       "      <th>SkinCancer</th>\n",
       "    </tr>\n",
       "  </thead>\n",
       "  <tbody>\n",
       "    <tr>\n",
       "      <th>0</th>\n",
       "      <td>0</td>\n",
       "      <td>1</td>\n",
       "      <td>0</td>\n",
       "      <td>0</td>\n",
       "      <td>3</td>\n",
       "      <td>30</td>\n",
       "      <td>0</td>\n",
       "      <td>0</td>\n",
       "      <td>7</td>\n",
       "      <td>2</td>\n",
       "      <td>1</td>\n",
       "      <td>4</td>\n",
       "      <td>5</td>\n",
       "      <td>1</td>\n",
       "      <td>0</td>\n",
       "      <td>1</td>\n",
       "    </tr>\n",
       "    <tr>\n",
       "      <th>1</th>\n",
       "      <td>0</td>\n",
       "      <td>0</td>\n",
       "      <td>0</td>\n",
       "      <td>1</td>\n",
       "      <td>0</td>\n",
       "      <td>0</td>\n",
       "      <td>0</td>\n",
       "      <td>0</td>\n",
       "      <td>12</td>\n",
       "      <td>0</td>\n",
       "      <td>1</td>\n",
       "      <td>4</td>\n",
       "      <td>7</td>\n",
       "      <td>0</td>\n",
       "      <td>0</td>\n",
       "      <td>0</td>\n",
       "    </tr>\n",
       "    <tr>\n",
       "      <th>2</th>\n",
       "      <td>0</td>\n",
       "      <td>1</td>\n",
       "      <td>0</td>\n",
       "      <td>0</td>\n",
       "      <td>20</td>\n",
       "      <td>30</td>\n",
       "      <td>0</td>\n",
       "      <td>1</td>\n",
       "      <td>9</td>\n",
       "      <td>2</td>\n",
       "      <td>1</td>\n",
       "      <td>1</td>\n",
       "      <td>8</td>\n",
       "      <td>1</td>\n",
       "      <td>0</td>\n",
       "      <td>0</td>\n",
       "    </tr>\n",
       "    <tr>\n",
       "      <th>3</th>\n",
       "      <td>0</td>\n",
       "      <td>0</td>\n",
       "      <td>0</td>\n",
       "      <td>0</td>\n",
       "      <td>0</td>\n",
       "      <td>0</td>\n",
       "      <td>0</td>\n",
       "      <td>0</td>\n",
       "      <td>11</td>\n",
       "      <td>0</td>\n",
       "      <td>0</td>\n",
       "      <td>2</td>\n",
       "      <td>6</td>\n",
       "      <td>0</td>\n",
       "      <td>0</td>\n",
       "      <td>1</td>\n",
       "    </tr>\n",
       "    <tr>\n",
       "      <th>4</th>\n",
       "      <td>0</td>\n",
       "      <td>0</td>\n",
       "      <td>0</td>\n",
       "      <td>0</td>\n",
       "      <td>28</td>\n",
       "      <td>0</td>\n",
       "      <td>1</td>\n",
       "      <td>0</td>\n",
       "      <td>4</td>\n",
       "      <td>0</td>\n",
       "      <td>1</td>\n",
       "      <td>4</td>\n",
       "      <td>8</td>\n",
       "      <td>0</td>\n",
       "      <td>0</td>\n",
       "      <td>0</td>\n",
       "    </tr>\n",
       "    <tr>\n",
       "      <th>...</th>\n",
       "      <td>...</td>\n",
       "      <td>...</td>\n",
       "      <td>...</td>\n",
       "      <td>...</td>\n",
       "      <td>...</td>\n",
       "      <td>...</td>\n",
       "      <td>...</td>\n",
       "      <td>...</td>\n",
       "      <td>...</td>\n",
       "      <td>...</td>\n",
       "      <td>...</td>\n",
       "      <td>...</td>\n",
       "      <td>...</td>\n",
       "      <td>...</td>\n",
       "      <td>...</td>\n",
       "      <td>...</td>\n",
       "    </tr>\n",
       "    <tr>\n",
       "      <th>319790</th>\n",
       "      <td>1</td>\n",
       "      <td>1</td>\n",
       "      <td>0</td>\n",
       "      <td>0</td>\n",
       "      <td>7</td>\n",
       "      <td>0</td>\n",
       "      <td>1</td>\n",
       "      <td>1</td>\n",
       "      <td>8</td>\n",
       "      <td>2</td>\n",
       "      <td>0</td>\n",
       "      <td>1</td>\n",
       "      <td>6</td>\n",
       "      <td>1</td>\n",
       "      <td>0</td>\n",
       "      <td>0</td>\n",
       "    </tr>\n",
       "    <tr>\n",
       "      <th>319791</th>\n",
       "      <td>0</td>\n",
       "      <td>1</td>\n",
       "      <td>0</td>\n",
       "      <td>0</td>\n",
       "      <td>0</td>\n",
       "      <td>0</td>\n",
       "      <td>0</td>\n",
       "      <td>1</td>\n",
       "      <td>3</td>\n",
       "      <td>0</td>\n",
       "      <td>1</td>\n",
       "      <td>4</td>\n",
       "      <td>5</td>\n",
       "      <td>1</td>\n",
       "      <td>0</td>\n",
       "      <td>0</td>\n",
       "    </tr>\n",
       "    <tr>\n",
       "      <th>319792</th>\n",
       "      <td>0</td>\n",
       "      <td>0</td>\n",
       "      <td>0</td>\n",
       "      <td>0</td>\n",
       "      <td>0</td>\n",
       "      <td>0</td>\n",
       "      <td>0</td>\n",
       "      <td>0</td>\n",
       "      <td>5</td>\n",
       "      <td>0</td>\n",
       "      <td>1</td>\n",
       "      <td>2</td>\n",
       "      <td>6</td>\n",
       "      <td>0</td>\n",
       "      <td>0</td>\n",
       "      <td>0</td>\n",
       "    </tr>\n",
       "    <tr>\n",
       "      <th>319793</th>\n",
       "      <td>0</td>\n",
       "      <td>0</td>\n",
       "      <td>0</td>\n",
       "      <td>0</td>\n",
       "      <td>0</td>\n",
       "      <td>0</td>\n",
       "      <td>0</td>\n",
       "      <td>0</td>\n",
       "      <td>1</td>\n",
       "      <td>0</td>\n",
       "      <td>0</td>\n",
       "      <td>2</td>\n",
       "      <td>12</td>\n",
       "      <td>0</td>\n",
       "      <td>0</td>\n",
       "      <td>0</td>\n",
       "    </tr>\n",
       "    <tr>\n",
       "      <th>319794</th>\n",
       "      <td>0</td>\n",
       "      <td>0</td>\n",
       "      <td>0</td>\n",
       "      <td>0</td>\n",
       "      <td>0</td>\n",
       "      <td>0</td>\n",
       "      <td>0</td>\n",
       "      <td>0</td>\n",
       "      <td>12</td>\n",
       "      <td>0</td>\n",
       "      <td>1</td>\n",
       "      <td>2</td>\n",
       "      <td>8</td>\n",
       "      <td>0</td>\n",
       "      <td>0</td>\n",
       "      <td>0</td>\n",
       "    </tr>\n",
       "  </tbody>\n",
       "</table>\n",
       "<p>319795 rows × 16 columns</p>\n",
       "</div>"
      ],
      "text/plain": [
       "        HeartDisease  Smoking  AlcoholDrinking  Stroke  PhysicalHealth  \\\n",
       "0                  0        1                0       0               3   \n",
       "1                  0        0                0       1               0   \n",
       "2                  0        1                0       0              20   \n",
       "3                  0        0                0       0               0   \n",
       "4                  0        0                0       0              28   \n",
       "...              ...      ...              ...     ...             ...   \n",
       "319790             1        1                0       0               7   \n",
       "319791             0        1                0       0               0   \n",
       "319792             0        0                0       0               0   \n",
       "319793             0        0                0       0               0   \n",
       "319794             0        0                0       0               0   \n",
       "\n",
       "        MentalHealth  DiffWalking  Sex  AgeCategory  Diabetic  \\\n",
       "0                 30            0    0            7         2   \n",
       "1                  0            0    0           12         0   \n",
       "2                 30            0    1            9         2   \n",
       "3                  0            0    0           11         0   \n",
       "4                  0            1    0            4         0   \n",
       "...              ...          ...  ...          ...       ...   \n",
       "319790             0            1    1            8         2   \n",
       "319791             0            0    1            3         0   \n",
       "319792             0            0    0            5         0   \n",
       "319793             0            0    0            1         0   \n",
       "319794             0            0    0           12         0   \n",
       "\n",
       "        PhysicalActivity  GenHealth  SleepTime  Asthma  KidneyDisease  \\\n",
       "0                      1          4          5       1              0   \n",
       "1                      1          4          7       0              0   \n",
       "2                      1          1          8       1              0   \n",
       "3                      0          2          6       0              0   \n",
       "4                      1          4          8       0              0   \n",
       "...                  ...        ...        ...     ...            ...   \n",
       "319790                 0          1          6       1              0   \n",
       "319791                 1          4          5       1              0   \n",
       "319792                 1          2          6       0              0   \n",
       "319793                 0          2         12       0              0   \n",
       "319794                 1          2          8       0              0   \n",
       "\n",
       "        SkinCancer  \n",
       "0                1  \n",
       "1                0  \n",
       "2                0  \n",
       "3                1  \n",
       "4                0  \n",
       "...            ...  \n",
       "319790           0  \n",
       "319791           0  \n",
       "319792           0  \n",
       "319793           0  \n",
       "319794           0  \n",
       "\n",
       "[319795 rows x 16 columns]"
      ]
     },
     "execution_count": 32,
     "metadata": {},
     "output_type": "execute_result"
    }
   ],
   "source": [
    "data"
   ]
  },
  {
   "cell_type": "code",
   "execution_count": 33,
   "id": "82861810",
   "metadata": {},
   "outputs": [],
   "source": [
    "x=data.iloc[:,1:]\n",
    "y=data.iloc[:,0]"
   ]
  },
  {
   "cell_type": "code",
   "execution_count": 34,
   "id": "0940384b",
   "metadata": {},
   "outputs": [
    {
     "data": {
      "text/plain": [
       "(319795, 15)"
      ]
     },
     "execution_count": 34,
     "metadata": {},
     "output_type": "execute_result"
    }
   ],
   "source": [
    "x.shape"
   ]
  },
  {
   "cell_type": "code",
   "execution_count": 35,
   "id": "2a566319",
   "metadata": {},
   "outputs": [
    {
     "data": {
      "text/plain": [
       "(319795,)"
      ]
     },
     "execution_count": 35,
     "metadata": {},
     "output_type": "execute_result"
    }
   ],
   "source": [
    "y.shape"
   ]
  },
  {
   "cell_type": "code",
   "execution_count": 36,
   "id": "b45455f8",
   "metadata": {},
   "outputs": [],
   "source": [
    "from sklearn.model_selection import train_test_split"
   ]
  },
  {
   "cell_type": "code",
   "execution_count": 37,
   "id": "880f7d37",
   "metadata": {},
   "outputs": [
    {
     "name": "stdout",
     "output_type": "stream",
     "text": [
      "Shape of x_train :- (239846, 15)\n",
      "Shape of y_train :- (239846,)\n",
      "Shape of x_test :- (79949, 15)\n",
      "Shape of y_test :- (79949,)\n"
     ]
    }
   ],
   "source": [
    "x_train,x_test,y_train,y_test=train_test_split(x,y,test_size=0.25,random_state=1)\n",
    "print(\"Shape of x_train :-\",x_train.shape)\n",
    "print(\"Shape of y_train :-\",y_train.shape)\n",
    "print(\"Shape of x_test :-\",x_test.shape)\n",
    "print(\"Shape of y_test :-\",y_test.shape)"
   ]
  },
  {
   "cell_type": "code",
   "execution_count": 39,
   "id": "c47e6bdb",
   "metadata": {},
   "outputs": [],
   "source": [
    "from sklearn.neighbors import KNeighborsClassifier\n",
    "from sklearn.metrics import classification_report, confusion_matrix,accuracy_score"
   ]
  },
  {
   "cell_type": "code",
   "execution_count": 40,
   "id": "99cea1ce",
   "metadata": {},
   "outputs": [
    {
     "name": "stdout",
     "output_type": "stream",
     "text": [
      "for k=1---- accuracy=0.8704424070344845\n",
      "for k=2---- accuracy=0.9103178276151046\n",
      "for k=3---- accuracy=0.8986979199239515\n",
      "for k=4---- accuracy=0.9119063402919361\n",
      "for k=5---- accuracy=0.9074910255287746\n",
      "for k=6---- accuracy=0.9136074247332675\n",
      "for k=7---- accuracy=0.9110307821236038\n",
      "for k=8---- accuracy=0.9141952995034335\n",
      "for k=9---- accuracy=0.9128194223817684\n",
      "for k=10---- accuracy=0.914808190221266\n",
      "for k=11---- accuracy=0.9135949167594342\n",
      "for k=12---- accuracy=0.9149332699595992\n",
      "for k=13---- accuracy=0.9143078712679333\n",
      "for k=14---- accuracy=0.9151709214624323\n",
      "for k=15---- accuracy=0.9143954270847665\n",
      "for k=16---- accuracy=0.9155211447297652\n",
      "for k=17---- accuracy=0.9149958098287658\n",
      "for k=18---- accuracy=0.9154210809390987\n",
      "for k=19---- accuracy=0.9153085091745988\n",
      "for k=20---- accuracy=0.9153585410699321\n",
      "for k=21---- accuracy=0.9153085091745988\n",
      "for k=22---- accuracy=0.9154586048605986\n",
      "for k=23---- accuracy=0.9153585410699321\n",
      "for k=24---- accuracy=0.9156212085204318\n",
      "for k=25---- accuracy=0.9154961287820986\n"
     ]
    }
   ],
   "source": [
    "accuracy_list=[]\n",
    "error_list=[]\n",
    "for k in range(1,26,1):\n",
    "    knn=KNeighborsClassifier(n_neighbors=k)\n",
    "    knn.fit(x_train,y_train)\n",
    "    y_predict=knn.predict(x_test)\n",
    "    accuracy=accuracy_score(y_test,y_predict)\n",
    "    error=(1-accuracy)\n",
    "    accuracy_list.append(accuracy)\n",
    "    error_list.append(error)\n",
    "    print(f\"for k={k}---- accuracy={accuracy}\")"
   ]
  },
  {
   "cell_type": "code",
   "execution_count": 45,
   "id": "ace9af68",
   "metadata": {},
   "outputs": [
    {
     "data": {
      "image/png": "[encoded data removed]",
      "text/plain": [
       "<Figure size 1080x576 with 1 Axes>"
      ]
     },
     "metadata": {
      "needs_background": "light"
     },
     "output_type": "display_data"
    }
   ],
   "source": [
    "plt.figure(figsize=(15,8))\n",
    "plt.plot(list(range(1,26,1)),error_list)\n",
    "plt.xlabel(\"K values\")\n",
    "plt.ylabel(\"Error\")\n",
    "plt.show()"
   ]
  },
  {
   "cell_type": "markdown",
   "id": "875baf3b",
   "metadata": {},
   "source": [
    "### For above graph we fix K=5 because of error will gradually reducing whrn increasing the K value but actuall devation start from k=5"
   ]
  },
  {
   "cell_type": "code",
   "execution_count": 46,
   "id": "a9be0586",
   "metadata": {},
   "outputs": [],
   "source": [
    "## KNN model\n",
    "model_1=KNeighborsClassifier(n_neighbors=5)\n",
    "model_1.fit(x_train,y_train)\n",
    "y_predictions=model_1.predict(x_test)"
   ]
  },
  {
   "cell_type": "code",
   "execution_count": 47,
   "id": "889031a1",
   "metadata": {},
   "outputs": [],
   "source": [
    "# classification_report, confusion_matrix,accuracy_score"
   ]
  },
  {
   "cell_type": "code",
   "execution_count": 49,
   "id": "578f8510",
   "metadata": {},
   "outputs": [
    {
     "name": "stdout",
     "output_type": "stream",
     "text": [
      "              precision    recall  f1-score   support\n",
      "\n",
      "           0       0.92      0.98      0.95     73211\n",
      "           1       0.33      0.10      0.15      6738\n",
      "\n",
      "    accuracy                           0.91     79949\n",
      "   macro avg       0.63      0.54      0.55     79949\n",
      "weighted avg       0.87      0.91      0.88     79949\n",
      "\n"
     ]
    }
   ],
   "source": [
    "report=classification_report(y_test,y_predictions)\n",
    "print(report)"
   ]
  },
  {
   "cell_type": "code",
   "execution_count": 53,
   "id": "9428060c",
   "metadata": {},
   "outputs": [
    {
     "name": "stdout",
     "output_type": "stream",
     "text": [
      "[[71892  1319]\n",
      " [ 6077   661]]\n",
      "Accuracy of KNN model :- 90.74910255287746\n",
      "Accuracy of training KNN model :- 92.14287501146569\n"
     ]
    }
   ],
   "source": [
    "print(confusion_matrix(y_test,y_predictions))\n",
    "print(\"Accuracy of KNN model :-\",accuracy_score(y_test,y_predictions)*100)\n",
    "print(\"Accuracy of training KNN model :-\",model_1.score(x_train,y_train)*100)"
   ]
  },
  {
   "cell_type": "markdown",
   "id": "551a3271",
   "metadata": {},
   "source": [
    "### logistic regression model"
   ]
  },
  {
   "cell_type": "code",
   "execution_count": 52,
   "id": "881914d8",
   "metadata": {},
   "outputs": [],
   "source": [
    "from sklearn.linear_model import LogisticRegression"
   ]
  },
  {
   "cell_type": "code",
   "execution_count": 54,
   "id": "7fba1b7a",
   "metadata": {},
   "outputs": [],
   "source": [
    "model_2=LogisticRegression()\n",
    "model_2.fit(x_train,y_train)\n",
    "y_predictions=model_2.predict(x_test)"
   ]
  },
  {
   "cell_type": "code",
   "execution_count": 56,
   "id": "6821a5da",
   "metadata": {},
   "outputs": [
    {
     "name": "stdout",
     "output_type": "stream",
     "text": [
      "training Accuracy of Logistic regression model :- 91.4611875953737\n",
      "testing Accuracy of Logistic regression model :- 91.60714955784313\n"
     ]
    }
   ],
   "source": [
    "print(\"training Accuracy of Logistic regression model :-\",model_2.score(x_train,y_train)*100)\n",
    "print(\"testing Accuracy of Logistic regression model :-\",model_2.score(x_test,y_test)*100)"
   ]
  },
  {
   "cell_type": "code",
   "execution_count": 57,
   "id": "a552813c",
   "metadata": {},
   "outputs": [
    {
     "name": "stdout",
     "output_type": "stream",
     "text": [
      "              precision    recall  f1-score   support\n",
      "\n",
      "           0       0.92      0.99      0.96     73211\n",
      "           1       0.51      0.10      0.16      6738\n",
      "\n",
      "    accuracy                           0.92     79949\n",
      "   macro avg       0.72      0.54      0.56     79949\n",
      "weighted avg       0.89      0.92      0.89     79949\n",
      "\n"
     ]
    }
   ],
   "source": [
    "report=classification_report(y_test,y_predictions)\n",
    "print(report)"
   ]
  },
  {
   "cell_type": "code",
   "execution_count": 58,
   "id": "f2fc4e1e",
   "metadata": {},
   "outputs": [
    {
     "name": "stdout",
     "output_type": "stream",
     "text": [
      "[[72595   616]\n",
      " [ 6094   644]]\n"
     ]
    }
   ],
   "source": [
    "print(confusion_matrix(y_test,y_predictions))"
   ]
  },
  {
   "cell_type": "markdown",
   "id": "9812c039",
   "metadata": {},
   "source": [
    "## logistic model is performing good"
   ]
  },
  {
   "cell_type": "code",
   "execution_count": null,
   "id": "5aaeb928",
   "metadata": {},
   "outputs": [],
   "source": []
  }
 ],
 "metadata": {
  "kernelspec": {
   "display_name": "Python 3 (ipykernel)",
   "language": "python",
   "name": "python3"
  },
  "language_info": {
   "codemirror_mode": {
    "name": "ipython",
    "version": 3
   },
   "file_extension": ".py",
   "mimetype": "text/x-python",
   "name": "python",
   "nbconvert_exporter": "python",
   "pygments_lexer": "ipython3",
   "version": "3.8.12"
  }
 },
 "nbformat": 4,
 "nbformat_minor": 5
}
