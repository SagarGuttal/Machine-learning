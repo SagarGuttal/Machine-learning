{
 "cells": [
  {
   "cell_type": "code",
   "execution_count": 2,
   "id": "6df0b56d",
   "metadata": {},
   "outputs": [],
   "source": [
    "import pandas as pd\n",
    "import numpy as np\n",
    "import matplotlib.pyplot as plt\n",
    "import seaborn as sns"
   ]
  },
  {
   "cell_type": "code",
   "execution_count": 4,
   "id": "cc3b7b0c",
   "metadata": {},
   "outputs": [],
   "source": [
    "data=pd.read_csv(\"data_banknote_authentication.csv\",names =[\"variance of Wavelet\",\"skewness of Wavelet\" \\\n",
    "                                                            ,\"curtosis of Wavelet\",\"entropy of image\",\"class\"])"
   ]
  },
  {
   "cell_type": "code",
   "execution_count": 5,
   "id": "24051687",
   "metadata": {},
   "outputs": [
    {
     "data": {
      "text/html": [
       "<div>\n",
       "<style scoped>\n",
       "    .dataframe tbody tr th:only-of-type {\n",
       "        vertical-align: middle;\n",
       "    }\n",
       "\n",
       "    .dataframe tbody tr th {\n",
       "        vertical-align: top;\n",
       "    }\n",
       "\n",
       "    .dataframe thead th {\n",
       "        text-align: right;\n",
       "    }\n",
       "</style>\n",
       "<table border=\"1\" class=\"dataframe\">\n",
       "  <thead>\n",
       "    <tr style=\"text-align: right;\">\n",
       "      <th></th>\n",
       "      <th>variance of Wavelet</th>\n",
       "      <th>skewness of Wavelet</th>\n",
       "      <th>curtosis of Wavelet</th>\n",
       "      <th>entropy of image</th>\n",
       "      <th>class</th>\n",
       "    </tr>\n",
       "  </thead>\n",
       "  <tbody>\n",
       "    <tr>\n",
       "      <th>0</th>\n",
       "      <td>3.62160</td>\n",
       "      <td>8.6661</td>\n",
       "      <td>-2.8073</td>\n",
       "      <td>-0.44699</td>\n",
       "      <td>0</td>\n",
       "    </tr>\n",
       "    <tr>\n",
       "      <th>1</th>\n",
       "      <td>4.54590</td>\n",
       "      <td>8.1674</td>\n",
       "      <td>-2.4586</td>\n",
       "      <td>-1.46210</td>\n",
       "      <td>0</td>\n",
       "    </tr>\n",
       "    <tr>\n",
       "      <th>2</th>\n",
       "      <td>3.86600</td>\n",
       "      <td>-2.6383</td>\n",
       "      <td>1.9242</td>\n",
       "      <td>0.10645</td>\n",
       "      <td>0</td>\n",
       "    </tr>\n",
       "    <tr>\n",
       "      <th>3</th>\n",
       "      <td>3.45660</td>\n",
       "      <td>9.5228</td>\n",
       "      <td>-4.0112</td>\n",
       "      <td>-3.59440</td>\n",
       "      <td>0</td>\n",
       "    </tr>\n",
       "    <tr>\n",
       "      <th>4</th>\n",
       "      <td>0.32924</td>\n",
       "      <td>-4.4552</td>\n",
       "      <td>4.5718</td>\n",
       "      <td>-0.98880</td>\n",
       "      <td>0</td>\n",
       "    </tr>\n",
       "  </tbody>\n",
       "</table>\n",
       "</div>"
      ],
      "text/plain": [
       "   variance of Wavelet  skewness of Wavelet  curtosis of Wavelet  \\\n",
       "0              3.62160               8.6661              -2.8073   \n",
       "1              4.54590               8.1674              -2.4586   \n",
       "2              3.86600              -2.6383               1.9242   \n",
       "3              3.45660               9.5228              -4.0112   \n",
       "4              0.32924              -4.4552               4.5718   \n",
       "\n",
       "   entropy of image  class  \n",
       "0          -0.44699      0  \n",
       "1          -1.46210      0  \n",
       "2           0.10645      0  \n",
       "3          -3.59440      0  \n",
       "4          -0.98880      0  "
      ]
     },
     "execution_count": 5,
     "metadata": {},
     "output_type": "execute_result"
    }
   ],
   "source": [
    "data.head()"
   ]
  },
  {
   "cell_type": "code",
   "execution_count": 9,
   "id": "d92686f3",
   "metadata": {},
   "outputs": [
    {
     "data": {
      "text/plain": [
       "(1372, 5)"
      ]
     },
     "execution_count": 9,
     "metadata": {},
     "output_type": "execute_result"
    }
   ],
   "source": [
    "data.shape"
   ]
  },
  {
   "cell_type": "code",
   "execution_count": 6,
   "id": "e1723a8b",
   "metadata": {},
   "outputs": [
    {
     "name": "stdout",
     "output_type": "stream",
     "text": [
      "<class 'pandas.core.frame.DataFrame'>\n",
      "RangeIndex: 1372 entries, 0 to 1371\n",
      "Data columns (total 5 columns):\n",
      " #   Column               Non-Null Count  Dtype  \n",
      "---  ------               --------------  -----  \n",
      " 0   variance of Wavelet  1372 non-null   float64\n",
      " 1   skewness of Wavelet  1372 non-null   float64\n",
      " 2   curtosis of Wavelet  1372 non-null   float64\n",
      " 3   entropy of image     1372 non-null   float64\n",
      " 4   class                1372 non-null   int64  \n",
      "dtypes: float64(4), int64(1)\n",
      "memory usage: 53.7 KB\n"
     ]
    }
   ],
   "source": [
    "data.info()"
   ]
  },
  {
   "cell_type": "code",
   "execution_count": 7,
   "id": "67a441ce",
   "metadata": {},
   "outputs": [
    {
     "data": {
      "text/html": [
       "<div>\n",
       "<style scoped>\n",
       "    .dataframe tbody tr th:only-of-type {\n",
       "        vertical-align: middle;\n",
       "    }\n",
       "\n",
       "    .dataframe tbody tr th {\n",
       "        vertical-align: top;\n",
       "    }\n",
       "\n",
       "    .dataframe thead th {\n",
       "        text-align: right;\n",
       "    }\n",
       "</style>\n",
       "<table border=\"1\" class=\"dataframe\">\n",
       "  <thead>\n",
       "    <tr style=\"text-align: right;\">\n",
       "      <th></th>\n",
       "      <th>variance of Wavelet</th>\n",
       "      <th>skewness of Wavelet</th>\n",
       "      <th>curtosis of Wavelet</th>\n",
       "      <th>entropy of image</th>\n",
       "      <th>class</th>\n",
       "    </tr>\n",
       "  </thead>\n",
       "  <tbody>\n",
       "    <tr>\n",
       "      <th>count</th>\n",
       "      <td>1372.000000</td>\n",
       "      <td>1372.000000</td>\n",
       "      <td>1372.000000</td>\n",
       "      <td>1372.000000</td>\n",
       "      <td>1372.000000</td>\n",
       "    </tr>\n",
       "    <tr>\n",
       "      <th>mean</th>\n",
       "      <td>0.433735</td>\n",
       "      <td>1.922353</td>\n",
       "      <td>1.397627</td>\n",
       "      <td>-1.191657</td>\n",
       "      <td>0.444606</td>\n",
       "    </tr>\n",
       "    <tr>\n",
       "      <th>std</th>\n",
       "      <td>2.842763</td>\n",
       "      <td>5.869047</td>\n",
       "      <td>4.310030</td>\n",
       "      <td>2.101013</td>\n",
       "      <td>0.497103</td>\n",
       "    </tr>\n",
       "    <tr>\n",
       "      <th>min</th>\n",
       "      <td>-7.042100</td>\n",
       "      <td>-13.773100</td>\n",
       "      <td>-5.286100</td>\n",
       "      <td>-8.548200</td>\n",
       "      <td>0.000000</td>\n",
       "    </tr>\n",
       "    <tr>\n",
       "      <th>25%</th>\n",
       "      <td>-1.773000</td>\n",
       "      <td>-1.708200</td>\n",
       "      <td>-1.574975</td>\n",
       "      <td>-2.413450</td>\n",
       "      <td>0.000000</td>\n",
       "    </tr>\n",
       "    <tr>\n",
       "      <th>50%</th>\n",
       "      <td>0.496180</td>\n",
       "      <td>2.319650</td>\n",
       "      <td>0.616630</td>\n",
       "      <td>-0.586650</td>\n",
       "      <td>0.000000</td>\n",
       "    </tr>\n",
       "    <tr>\n",
       "      <th>75%</th>\n",
       "      <td>2.821475</td>\n",
       "      <td>6.814625</td>\n",
       "      <td>3.179250</td>\n",
       "      <td>0.394810</td>\n",
       "      <td>1.000000</td>\n",
       "    </tr>\n",
       "    <tr>\n",
       "      <th>max</th>\n",
       "      <td>6.824800</td>\n",
       "      <td>12.951600</td>\n",
       "      <td>17.927400</td>\n",
       "      <td>2.449500</td>\n",
       "      <td>1.000000</td>\n",
       "    </tr>\n",
       "  </tbody>\n",
       "</table>\n",
       "</div>"
      ],
      "text/plain": [
       "       variance of Wavelet  skewness of Wavelet  curtosis of Wavelet  \\\n",
       "count          1372.000000          1372.000000          1372.000000   \n",
       "mean              0.433735             1.922353             1.397627   \n",
       "std               2.842763             5.869047             4.310030   \n",
       "min              -7.042100           -13.773100            -5.286100   \n",
       "25%              -1.773000            -1.708200            -1.574975   \n",
       "50%               0.496180             2.319650             0.616630   \n",
       "75%               2.821475             6.814625             3.179250   \n",
       "max               6.824800            12.951600            17.927400   \n",
       "\n",
       "       entropy of image        class  \n",
       "count       1372.000000  1372.000000  \n",
       "mean          -1.191657     0.444606  \n",
       "std            2.101013     0.497103  \n",
       "min           -8.548200     0.000000  \n",
       "25%           -2.413450     0.000000  \n",
       "50%           -0.586650     0.000000  \n",
       "75%            0.394810     1.000000  \n",
       "max            2.449500     1.000000  "
      ]
     },
     "execution_count": 7,
     "metadata": {},
     "output_type": "execute_result"
    }
   ],
   "source": [
    "data.describe()"
   ]
  },
  {
   "cell_type": "code",
   "execution_count": 8,
   "id": "6a307b0b",
   "metadata": {},
   "outputs": [
    {
     "data": {
      "text/plain": [
       "variance of Wavelet    0\n",
       "skewness of Wavelet    0\n",
       "curtosis of Wavelet    0\n",
       "entropy of image       0\n",
       "class                  0\n",
       "dtype: int64"
      ]
     },
     "execution_count": 8,
     "metadata": {},
     "output_type": "execute_result"
    }
   ],
   "source": [
    "data.isnull().sum()"
   ]
  },
  {
   "cell_type": "markdown",
   "id": "94a0d0d7",
   "metadata": {},
   "source": [
    "## Let's see how our dataset is distrubuted "
   ]
  },
  {
   "cell_type": "code",
   "execution_count": 34,
   "id": "88e74ffe",
   "metadata": {},
   "outputs": [
    {
     "data": {
      "image/png": "[encoded data removed]",
      "text/plain": [
       "<Figure size 720x576 with 1 Axes>"
      ]
     },
     "metadata": {
      "needs_background": "light"
     },
     "output_type": "display_data"
    }
   ],
   "source": [
    "plt.figure(figsize=(10,8))\n",
    "sns.scatterplot(x=\"variance of Wavelet\",y=\"class\",data=data)\n",
    "sns.scatterplot(x=\"skewness of Wavelet\",y=\"class\",data=data)\n",
    "sns.scatterplot(x=\"curtosis of Wavelet\",y=\"class\",data=data)\n",
    "sns.scatterplot(x=\"entropy of image\",y=\"class\",data=data)\n",
    "plt.xlabel(\"Feature\",fontsize=18)\n",
    "plt.ylabel(\"Class\",fontsize=18)\n",
    "plt.title(\"Feature vs Target\",fontsize=20)\n",
    "plt.show()"
   ]
  },
  {
   "cell_type": "markdown",
   "id": "43d3b2b7",
   "metadata": {},
   "source": [
    "* dataset is multivariate\n",
    "* Data points distrubuted with target variable thats why we use claasification algorithms "
   ]
  },
  {
   "cell_type": "markdown",
   "id": "437bfbc9",
   "metadata": {},
   "source": [
    "#### No null values and no categorical values here therefore no need to"
   ]
  },
  {
   "cell_type": "markdown",
   "id": "9309dca5",
   "metadata": {},
   "source": [
    "## Split data into x and y"
   ]
  },
  {
   "cell_type": "code",
   "execution_count": 14,
   "id": "44b1b9f3",
   "metadata": {},
   "outputs": [],
   "source": [
    "x=data.iloc[:,:-1].values\n",
    "y=data.iloc[:,-1].values"
   ]
  },
  {
   "cell_type": "code",
   "execution_count": 16,
   "id": "651a3f93",
   "metadata": {},
   "outputs": [
    {
     "data": {
      "text/plain": [
       "(1372, 4)"
      ]
     },
     "execution_count": 16,
     "metadata": {},
     "output_type": "execute_result"
    }
   ],
   "source": [
    "x.shape"
   ]
  },
  {
   "cell_type": "code",
   "execution_count": 17,
   "id": "84c3c013",
   "metadata": {},
   "outputs": [
    {
     "data": {
      "text/plain": [
       "(1372,)"
      ]
     },
     "execution_count": 17,
     "metadata": {},
     "output_type": "execute_result"
    }
   ],
   "source": [
    "y.shape"
   ]
  },
  {
   "cell_type": "code",
   "execution_count": 28,
   "id": "a6a81668",
   "metadata": {},
   "outputs": [],
   "source": [
    "from sklearn.model_selection import train_test_split\n",
    "x_train,x_test,y_train,y_test=train_test_split(x,y,test_size=0.20,random_state=0)"
   ]
  },
  {
   "cell_type": "code",
   "execution_count": 33,
   "id": "e9c27fc3",
   "metadata": {},
   "outputs": [
    {
     "name": "stdout",
     "output_type": "stream",
     "text": [
      "Shape of x_train - (1097, 4)\n",
      "Shape of y_train - (1097,)\n",
      "Shape of x_test - (275, 4)\n",
      "Shape of y_test - (275,)\n"
     ]
    }
   ],
   "source": [
    "print(\"Shape of x_train -\",x_train.shape)\n",
    "print(\"Shape of y_train -\",y_train.shape)\n",
    "print(\"Shape of x_test -\",x_test.shape)\n",
    "print(\"Shape of y_test -\",y_test.shape)"
   ]
  },
  {
   "cell_type": "markdown",
   "id": "3a0ccff3",
   "metadata": {},
   "source": [
    "* Selecting all classification algorithms and pass the dataset into each algorithm model out of which algorithms has more accuracy we select one"
   ]
  },
  {
   "cell_type": "code",
   "execution_count": 35,
   "id": "136ef39b",
   "metadata": {},
   "outputs": [],
   "source": [
    "from sklearn.linear_model import LogisticRegression\n",
    "from sklearn.neighbors import KNeighborsClassifier\n",
    "from sklearn.metrics import accuracy_score,confusion_matrix"
   ]
  },
  {
   "cell_type": "markdown",
   "id": "1907fbe9",
   "metadata": {},
   "source": [
    "#### Train the logistic model"
   ]
  },
  {
   "cell_type": "code",
   "execution_count": 38,
   "id": "9b847d2b",
   "metadata": {},
   "outputs": [
    {
     "data": {
      "text/plain": [
       "LogisticRegression()"
      ]
     },
     "execution_count": 38,
     "metadata": {},
     "output_type": "execute_result"
    }
   ],
   "source": [
    "model_1=LogisticRegression()\n",
    "model_1.fit(x_train,y_train)"
   ]
  },
  {
   "cell_type": "markdown",
   "id": "e4e4156f",
   "metadata": {},
   "source": [
    "#### pass the test daset to logistic model"
   ]
  },
  {
   "cell_type": "code",
   "execution_count": 40,
   "id": "f5296c42",
   "metadata": {},
   "outputs": [],
   "source": [
    "y_prediction_1=model_1.predict(x_test)"
   ]
  },
  {
   "cell_type": "markdown",
   "id": "f2a8ee41",
   "metadata": {},
   "source": [
    "### for KNeighborsClassifier model we have to select k value"
   ]
  },
  {
   "cell_type": "code",
   "execution_count": 42,
   "id": "711012ee",
   "metadata": {},
   "outputs": [
    {
     "name": "stdout",
     "output_type": "stream",
     "text": [
      "for 1value accuracy :- 1.0\n",
      "for 2value accuracy :- 1.0\n",
      "for 3value accuracy :- 1.0\n",
      "for 4value accuracy :- 1.0\n",
      "for 5value accuracy :- 1.0\n",
      "for 6value accuracy :- 1.0\n",
      "for 7value accuracy :- 1.0\n",
      "for 8value accuracy :- 1.0\n",
      "for 9value accuracy :- 1.0\n",
      "for 10value accuracy :- 1.0\n",
      "for 11value accuracy :- 1.0\n",
      "for 12value accuracy :- 1.0\n",
      "for 13value accuracy :- 1.0\n",
      "for 14value accuracy :- 1.0\n"
     ]
    }
   ],
   "source": [
    "accuracy_list=[]\n",
    "error_list=[]\n",
    "for k in range(1,15,1):\n",
    "    knn=KNeighborsClassifier(n_neighbors=k)\n",
    "    knn.fit(x_train,y_train)\n",
    "    knn_prediction=knn.predict(x_test)\n",
    "    accuracy=accuracy_score(y_test,knn_prediction)\n",
    "    accuracy_list.append(accuracy)\n",
    "    error=1-accuracy\n",
    "    error_list.append(error)\n",
    "    print(f\"for {k}value accuracy :- {accuracy}\")"
   ]
  },
  {
   "cell_type": "markdown",
   "id": "a2e11256",
   "metadata": {},
   "source": [
    "### for all k values accuracy is same but  i am taking k=5"
   ]
  },
  {
   "cell_type": "code",
   "execution_count": 43,
   "id": "35b37222",
   "metadata": {},
   "outputs": [],
   "source": [
    "model_2=KNeighborsClassifier(n_neighbors=5)\n",
    "model_2.fit(x_train,y_train)\n",
    "model_2_prediction=knn.predict(x_test)"
   ]
  },
  {
   "cell_type": "markdown",
   "id": "ee190688",
   "metadata": {},
   "source": [
    "## Checking the performance of each model"
   ]
  },
  {
   "cell_type": "markdown",
   "id": "9eaffa95",
   "metadata": {},
   "source": [
    "* 1.Logistic regression model"
   ]
  },
  {
   "cell_type": "code",
   "execution_count": 45,
   "id": "ba0a6a79",
   "metadata": {},
   "outputs": [],
   "source": [
    "accuracy_1=accuracy_score(y_test,y_prediction_1)\n",
    "accuracy_2=accuracy_score(y_test,model_2_prediction)"
   ]
  },
  {
   "cell_type": "code",
   "execution_count": 46,
   "id": "303965da",
   "metadata": {},
   "outputs": [
    {
     "name": "stdout",
     "output_type": "stream",
     "text": [
      "accuracy of logistic regression model -  0.9927272727272727\n",
      "accuracy of KNeighborsClassifier model -  0.9927272727272727\n"
     ]
    }
   ],
   "source": [
    "print(\"accuracy of logistic regression model - \",accuracy_1)\n",
    "print(\"accuracy of KNeighborsClassifier model - \",accuracy_1)"
   ]
  },
  {
   "cell_type": "code",
   "execution_count": null,
   "id": "30d2d68f",
   "metadata": {},
   "outputs": [],
   "source": []
  }
 ],
 "metadata": {
  "kernelspec": {
   "display_name": "Python 3 (ipykernel)",
   "language": "python",
   "name": "python3"
  },
  "language_info": {
   "codemirror_mode": {
    "name": "ipython",
    "version": 3
   },
   "file_extension": ".py",
   "mimetype": "text/x-python",
   "name": "python",
   "nbconvert_exporter": "python",
   "pygments_lexer": "ipython3",
   "version": "3.8.12"
  }
 },
 "nbformat": 4,
 "nbformat_minor": 5
}
