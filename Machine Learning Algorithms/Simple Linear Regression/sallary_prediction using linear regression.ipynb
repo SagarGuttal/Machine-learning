{
 "cells": [
  {
   "cell_type": "code",
   "execution_count": 1,
   "id": "46730d03",
   "metadata": {},
   "outputs": [],
   "source": [
    "import pandas as pd\n",
    "import numpy as np\n",
    "import matplotlib.pyplot as plt\n",
    "from sklearn.model_selection import train_test_split\n",
    "from sklearn.linear_model import LinearRegression"
   ]
  },
  {
   "cell_type": "code",
   "execution_count": 2,
   "id": "1836ca55",
   "metadata": {},
   "outputs": [],
   "source": [
    "df=pd.read_csv(\"Salary_Data.csv\")"
   ]
  },
  {
   "cell_type": "code",
   "execution_count": 3,
   "id": "18aff496",
   "metadata": {},
   "outputs": [
    {
     "data": {
      "text/html": [
       "<div>\n",
       "<style scoped>\n",
       "    .dataframe tbody tr th:only-of-type {\n",
       "        vertical-align: middle;\n",
       "    }\n",
       "\n",
       "    .dataframe tbody tr th {\n",
       "        vertical-align: top;\n",
       "    }\n",
       "\n",
       "    .dataframe thead th {\n",
       "        text-align: right;\n",
       "    }\n",
       "</style>\n",
       "<table border=\"1\" class=\"dataframe\">\n",
       "  <thead>\n",
       "    <tr style=\"text-align: right;\">\n",
       "      <th></th>\n",
       "      <th>YearsExperience</th>\n",
       "      <th>Salary</th>\n",
       "    </tr>\n",
       "  </thead>\n",
       "  <tbody>\n",
       "    <tr>\n",
       "      <th>0</th>\n",
       "      <td>1.1</td>\n",
       "      <td>39343.0</td>\n",
       "    </tr>\n",
       "    <tr>\n",
       "      <th>1</th>\n",
       "      <td>1.3</td>\n",
       "      <td>46205.0</td>\n",
       "    </tr>\n",
       "    <tr>\n",
       "      <th>2</th>\n",
       "      <td>1.5</td>\n",
       "      <td>37731.0</td>\n",
       "    </tr>\n",
       "    <tr>\n",
       "      <th>3</th>\n",
       "      <td>2.0</td>\n",
       "      <td>43525.0</td>\n",
       "    </tr>\n",
       "    <tr>\n",
       "      <th>4</th>\n",
       "      <td>2.2</td>\n",
       "      <td>39891.0</td>\n",
       "    </tr>\n",
       "  </tbody>\n",
       "</table>\n",
       "</div>"
      ],
      "text/plain": [
       "   YearsExperience   Salary\n",
       "0              1.1  39343.0\n",
       "1              1.3  46205.0\n",
       "2              1.5  37731.0\n",
       "3              2.0  43525.0\n",
       "4              2.2  39891.0"
      ]
     },
     "execution_count": 3,
     "metadata": {},
     "output_type": "execute_result"
    }
   ],
   "source": [
    "df.head()"
   ]
  },
  {
   "cell_type": "markdown",
   "id": "444a844d",
   "metadata": {},
   "source": [
    "#### scatter Plot shows how datapoints are distrubuted along x and y variables"
   ]
  },
  {
   "cell_type": "code",
   "execution_count": 4,
   "id": "0b32fc7c",
   "metadata": {},
   "outputs": [
    {
     "data": {
      "image/png": "[encoded data removed]",
      "text/plain": [
       "<Figure size 720x720 with 1 Axes>"
      ]
     },
     "metadata": {
      "needs_background": "light"
     },
     "output_type": "display_data"
    }
   ],
   "source": [
    "plt.figure(figsize=(10,10))\n",
    "plt.scatter(x=df[\"YearsExperience\"],y=df[\"Salary\"])\n",
    "plt.xlabel(\"Year of experience\")\n",
    "plt.ylabel(\"sallary\")\n",
    "plt.show()"
   ]
  },
  {
   "cell_type": "markdown",
   "id": "9c383ecd",
   "metadata": {},
   "source": [
    "#### Split the datas in x and y"
   ]
  },
  {
   "cell_type": "code",
   "execution_count": 5,
   "id": "e1354c34",
   "metadata": {},
   "outputs": [],
   "source": [
    "x= df.iloc[:, :-1].values  \n",
    "y= df.iloc[:, 1].values   "
   ]
  },
  {
   "cell_type": "code",
   "execution_count": 6,
   "id": "096ed938",
   "metadata": {},
   "outputs": [
    {
     "data": {
      "text/plain": [
       "(30, 1)"
      ]
     },
     "execution_count": 6,
     "metadata": {},
     "output_type": "execute_result"
    }
   ],
   "source": [
    "x.shape"
   ]
  },
  {
   "cell_type": "code",
   "execution_count": 7,
   "id": "f6f7510d",
   "metadata": {},
   "outputs": [
    {
     "data": {
      "text/plain": [
       "(30,)"
      ]
     },
     "execution_count": 7,
     "metadata": {},
     "output_type": "execute_result"
    }
   ],
   "source": [
    "y.shape"
   ]
  },
  {
   "cell_type": "code",
   "execution_count": 8,
   "id": "027e1921",
   "metadata": {},
   "outputs": [
    {
     "data": {
      "text/plain": [
       "array([[ 39343.],\n",
       "       [ 46205.],\n",
       "       [ 37731.],\n",
       "       [ 43525.],\n",
       "       [ 39891.],\n",
       "       [ 56642.],\n",
       "       [ 60150.],\n",
       "       [ 54445.],\n",
       "       [ 64445.],\n",
       "       [ 57189.],\n",
       "       [ 63218.],\n",
       "       [ 55794.],\n",
       "       [ 56957.],\n",
       "       [ 57081.],\n",
       "       [ 61111.],\n",
       "       [ 67938.],\n",
       "       [ 66029.],\n",
       "       [ 83088.],\n",
       "       [ 81363.],\n",
       "       [ 93940.],\n",
       "       [ 91738.],\n",
       "       [ 98273.],\n",
       "       [101302.],\n",
       "       [113812.],\n",
       "       [109431.],\n",
       "       [105582.],\n",
       "       [116969.],\n",
       "       [112635.],\n",
       "       [122391.],\n",
       "       [121872.]])"
      ]
     },
     "execution_count": 8,
     "metadata": {},
     "output_type": "execute_result"
    }
   ],
   "source": [
    "y.reshape(-1,1)"
   ]
  },
  {
   "cell_type": "code",
   "execution_count": 9,
   "id": "5e2cd5d6",
   "metadata": {},
   "outputs": [
    {
     "data": {
      "text/plain": [
       "(30,)"
      ]
     },
     "execution_count": 9,
     "metadata": {},
     "output_type": "execute_result"
    }
   ],
   "source": [
    "y.shape"
   ]
  },
  {
   "cell_type": "markdown",
   "id": "15f5a61a",
   "metadata": {},
   "source": [
    "#### Split the data in training set and testing set"
   ]
  },
  {
   "cell_type": "code",
   "execution_count": 10,
   "id": "43bc6454",
   "metadata": {},
   "outputs": [],
   "source": [
    "x_train,x_test,y_train,y_test=train_test_split(x,y,test_size=0.3,random_state=0)"
   ]
  },
  {
   "cell_type": "code",
   "execution_count": 11,
   "id": "09fa190a",
   "metadata": {},
   "outputs": [],
   "source": [
    "lr=LinearRegression()"
   ]
  },
  {
   "cell_type": "code",
   "execution_count": 12,
   "id": "203aad1c",
   "metadata": {},
   "outputs": [
    {
     "data": {
      "text/plain": [
       "LinearRegression()"
      ]
     },
     "execution_count": 12,
     "metadata": {},
     "output_type": "execute_result"
    }
   ],
   "source": [
    "lr.fit(x_train,y_train)"
   ]
  },
  {
   "cell_type": "markdown",
   "id": "eb2379ae",
   "metadata": {},
   "source": [
    "#### Prediction of Test and Training set result  "
   ]
  },
  {
   "cell_type": "code",
   "execution_count": 13,
   "id": "a317489d",
   "metadata": {},
   "outputs": [],
   "source": [
    "y_prediction=lr.predict(x_test)\n",
    "x_prediction=lr.predict(x_train)"
   ]
  },
  {
   "cell_type": "markdown",
   "id": "55f0cf4a",
   "metadata": {},
   "source": [
    "#### visualizing the Training set results:"
   ]
  },
  {
   "cell_type": "code",
   "execution_count": 14,
   "id": "8de6e518",
   "metadata": {},
   "outputs": [
    {
     "data": {
      "image/png": "[encoded data removed]",
      "text/plain": [
       "<Figure size 720x720 with 1 Axes>"
      ]
     },
     "metadata": {
      "needs_background": "light"
     },
     "output_type": "display_data"
    }
   ],
   "source": [
    "plt.figure(figsize=(10,10))\n",
    "plt.scatter(x_train,y_train,color=\"blue\")\n",
    "plt.plot(x_train,x_prediction,color=\"red\")\n",
    "plt.title(\"Sallary and experiance(Training Dataset)\",fontsize=16)\n",
    "plt.xlabel(\"Year of experience\",fontsize=16)\n",
    "plt.ylabel(\"sallary\",fontsize=16)\n",
    "plt.show()"
   ]
  },
  {
   "cell_type": "markdown",
   "id": "be0fea81",
   "metadata": {},
   "source": [
    "#### visualizing the Test set results:"
   ]
  },
  {
   "cell_type": "code",
   "execution_count": 15,
   "id": "bfe0308b",
   "metadata": {},
   "outputs": [
    {
     "data": {
      "image/png": "[encoded data removed]",
      "text/plain": [
       "<Figure size 720x720 with 1 Axes>"
      ]
     },
     "metadata": {
      "needs_background": "light"
     },
     "output_type": "display_data"
    }
   ],
   "source": [
    "plt.figure(figsize=(10,10))\n",
    "plt.scatter(x_test,y_test,color=\"blue\")\n",
    "plt.plot(x_test,y_prediction,color=\"red\")\n",
    "plt.title(\"Sallary and experiance(Testing Dataset)\",fontsize=16)\n",
    "plt.xlabel(\"Year of experience\",fontsize=16)\n",
    "plt.ylabel(\"sallary\",fontsize=16)\n",
    "plt.show()"
   ]
  },
  {
   "cell_type": "markdown",
   "id": "e376bbec",
   "metadata": {},
   "source": [
    "#### Plotting the actual and predicted values"
   ]
  },
  {
   "cell_type": "code",
   "execution_count": 24,
   "id": "03ed1a30",
   "metadata": {},
   "outputs": [
    {
     "data": {
      "image/png": "[encoded data removed]",
      "text/plain": [
       "<Figure size 432x288 with 1 Axes>"
      ]
     },
     "metadata": {
      "needs_background": "light"
     },
     "output_type": "display_data"
    }
   ],
   "source": [
    "index=[x for x in range(1,len(y_test)+1,1)]\n",
    "plt.plot(index,y_test,color=\"red\",linestyle=\"-\")\n",
    "plt.plot(index,y_prediction,color=\"blue\",linestyle=\"-\")\n",
    "plt.xlabel(\"Index\",fontsize=16)\n",
    "plt.ylabel(\"Sallary\",fontsize=16)\n",
    "plt.title(\"Prediction values to actual values\")\n",
    "plt.show()"
   ]
  },
  {
   "cell_type": "markdown",
   "id": "0c90389e",
   "metadata": {},
   "source": [
    "## Error plot"
   ]
  },
  {
   "cell_type": "code",
   "execution_count": 17,
   "id": "d8394b16",
   "metadata": {},
   "outputs": [
    {
     "data": {
      "image/png": "[encoded data removed]",
      "text/plain": [
       "<Figure size 432x288 with 1 Axes>"
      ]
     },
     "metadata": {
      "needs_background": "light"
     },
     "output_type": "display_data"
    }
   ],
   "source": [
    "# plotting the error\n",
    "index = [i for i in range(1,len(y_test)+1,1)]\n",
    "plt.plot(index,y_test - y_prediction,color='green',linestyle='-')\n",
    "plt.xlabel('index')\n",
    "plt.ylabel('Error')\n",
    "plt.title('Error Value')\n",
    "plt.show()"
   ]
  },
  {
   "cell_type": "markdown",
   "id": "90324636",
   "metadata": {},
   "source": [
    "###  Importing metrics for the evaluation of the model"
   ]
  },
  {
   "cell_type": "code",
   "execution_count": 18,
   "id": "146a33a3",
   "metadata": {},
   "outputs": [],
   "source": [
    "from sklearn.metrics import r2_score,mean_squared_error"
   ]
  },
  {
   "cell_type": "markdown",
   "id": "f695c656",
   "metadata": {},
   "source": [
    "### MSE for testing dataset"
   ]
  },
  {
   "cell_type": "code",
   "execution_count": 20,
   "id": "4525ca29",
   "metadata": {},
   "outputs": [
    {
     "data": {
      "text/plain": [
       "35116032.63186063"
      ]
     },
     "execution_count": 20,
     "metadata": {},
     "output_type": "execute_result"
    }
   ],
   "source": [
    "MSE=mean_squared_error(y_train,x_prediction)\n",
    "MSE"
   ]
  },
  {
   "cell_type": "code",
   "execution_count": 21,
   "id": "a34aea1c",
   "metadata": {},
   "outputs": [
    {
     "data": {
      "text/plain": [
       "23370078.800832972"
      ]
     },
     "execution_count": 21,
     "metadata": {},
     "output_type": "execute_result"
    }
   ],
   "source": [
    "MSE=mean_squared_error(y_test,y_prediction)\n",
    "MSE"
   ]
  },
  {
   "cell_type": "markdown",
   "id": "a6e05b1d",
   "metadata": {},
   "source": [
    "### R2_score"
   ]
  },
  {
   "cell_type": "markdown",
   "id": "bf315ae3",
   "metadata": {},
   "source": [
    "### r2_score in Testing set"
   ]
  },
  {
   "cell_type": "code",
   "execution_count": 22,
   "id": "87faee7b",
   "metadata": {},
   "outputs": [
    {
     "data": {
      "text/plain": [
       "0.9740993407213511"
      ]
     },
     "execution_count": 22,
     "metadata": {},
     "output_type": "execute_result"
    }
   ],
   "source": [
    "score=r2_score(y_test,y_prediction)\n",
    "score"
   ]
  },
  {
   "cell_type": "markdown",
   "id": "bf95c6b2",
   "metadata": {},
   "source": [
    "### r2_score in Traning set"
   ]
  },
  {
   "cell_type": "code",
   "execution_count": 23,
   "id": "4ddc8e04",
   "metadata": {},
   "outputs": [
    {
     "data": {
      "text/plain": [
       "0.9423777652193379"
      ]
     },
     "execution_count": 23,
     "metadata": {},
     "output_type": "execute_result"
    }
   ],
   "source": [
    "score=r2_score(y_train,x_prediction)\n",
    "score"
   ]
  },
  {
   "cell_type": "markdown",
   "id": "8b9d9a65",
   "metadata": {},
   "source": [
    "## The above score tells that our model is 94% accurate with the training dataset and 97% accurate with the test dataset."
   ]
  },
  {
   "cell_type": "code",
   "execution_count": null,
   "id": "d75b8c75",
   "metadata": {},
   "outputs": [],
   "source": []
  }
 ],
 "metadata": {
  "kernelspec": {
   "display_name": "Python 3 (ipykernel)",
   "language": "python",
   "name": "python3"
  },
  "language_info": {
   "codemirror_mode": {
    "name": "ipython",
    "version": 3
   },
   "file_extension": ".py",
   "mimetype": "text/x-python",
   "name": "python",
   "nbconvert_exporter": "python",
   "pygments_lexer": "ipython3",
   "version": "3.8.12"
  }
 },
 "nbformat": 4,
 "nbformat_minor": 5
}
